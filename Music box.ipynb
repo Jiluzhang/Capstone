{
 "cells": [
  {
   "cell_type": "markdown",
   "metadata": {},
   "source": [
    "## 1 Introduction"
   ]
  },
  {
   "cell_type": "markdown",
   "metadata": {},
   "source": [
    "This dataset is obtained from a music player application at home, including **play**, **download**, and **search** data. The goal of our analysis is to **predict customer churn**. Generally, the customers who stop using a product or service for a given period of time are referred to as churners, and churn is one of the most important elements in the Key Performance Indicator (KPI). In this case, the date range of data is from 2017-03-30 to 2017-05-12. Therefore, if one user did not have action in the **last 2 weeks** (2017-04-29 to 2017-05-12), we define it as churn. After data cleaning, exploratory data analysis, feature engineering, and machine learning model building, we achieved an predictive power of **0.9**, as measured by the area under the ROC curve."
   ]
  },
  {
   "cell_type": "markdown",
   "metadata": {},
   "source": [
    "## 2 Preparations"
   ]
  },
  {
   "cell_type": "markdown",
   "metadata": {},
   "source": [
    "### 2.1 Import libraries"
   ]
  },
  {
   "cell_type": "code",
   "execution_count": 1,
   "metadata": {},
   "outputs": [],
   "source": [
    "# file and directory manipulation\n",
    "import os\n",
    "import requests\n",
    "from bs4 import BeautifulSoup\n",
    "\n",
    "# data manipulation and visualization\n",
    "import numpy as np\n",
    "import pandas as pd\n",
    "import csv\n",
    "import matplotlib.pyplot as plt\n",
    "%matplotlib inline\n",
    "plt.style.use('seaborn')\n",
    "\n",
    "# date and time manipulation\n",
    "import datetime\n",
    "from dateutil import parser \n",
    "\n",
    "# spark functionality\n",
    "from pyspark.context import SparkContext\n",
    "from pyspark.sql.session import SparkSession\n",
    "sc = SparkContext('local')\n",
    "spark = SparkSession(sc)\n",
    "import pyspark.sql.functions as F\n",
    "from pyspark.ml.feature import VectorAssembler\n",
    "from pyspark.ml.feature import StandardScaler\n",
    "from pyspark.ml.feature import OneHotEncoderEstimator\n",
    "from pyspark.ml.classification import LogisticRegression\n",
    "from pyspark.ml.classification import RandomForestClassifier\n",
    "\n",
    "# quantify quality of predictions\n",
    "from sklearn.metrics import roc_curve, auc, roc_auc_score\n",
    "\n",
    "# ignore warnings\n",
    "import warnings\n",
    "warnings.filterwarnings('ignore')"
   ]
  },
  {
   "cell_type": "markdown",
   "metadata": {},
   "source": [
    "### 2.2 Create folders"
   ]
  },
  {
   "cell_type": "code",
   "execution_count": 2,
   "metadata": {},
   "outputs": [],
   "source": [
    "os.system('mkdir -p ../data/raw ../data/play ../data/down ../data/search')  "
   ]
  },
  {
   "cell_type": "markdown",
   "metadata": {},
   "source": [
    "### 2.3 Download files"
   ]
  },
  {
   "cell_type": "code",
   "execution_count": 3,
   "metadata": {},
   "outputs": [],
   "source": [
    "data_url = 'https://bittigermusicplayerdata.s3-us-west-2.amazonaws.com'\n",
    "r = requests.get(data_url)\n",
    "files = []\n",
    "for file_name in BeautifulSoup(r.content).find_all('key'):\n",
    "    one_file = str(file_name).lstrip('<key>').rstrip('</key>')\n",
    "    files.append(one_file)"
   ]
  },
  {
   "cell_type": "code",
   "execution_count": 5,
   "metadata": {},
   "outputs": [
    {
     "name": "stdout",
     "output_type": "stream",
     "text": [
      "1_1_search.log.tar.gz\n",
      "1_2_search.log.tar.gz\n",
      "1_3_search.log.tar.gz\n",
      "1_4_search.log.tar.gz\n",
      "20170301_play.log.gz\n",
      "20170302_1_play.log.tar.gz\n",
      "20170303_1_play.log.tar.gz\n",
      "20170304_1_play.log.tar.gz\n",
      "20170305_1_play.log.tar.gz\n",
      "20170306_1_play.log.tar.gz\n",
      "20170307_1_play.log.tar.gz\n",
      "20170308_1_play.log.tar.gz\n",
      "20170309_1_play.log.tar.gz\n",
      "20170329_1_play.log.tar.gz\n",
      "20170330_1_down.log.tar.gz\n",
      "20170330_1_search.log.tar.gz\n",
      "20170330_2_down.log.tar.gz\n",
      "20170330_2_search.log.tar.gz\n",
      "20170330_3.uids.tar.gz\n",
      "20170330_3_down.log.tar.gz\n",
      "20170330_3_play.log.tar.gz\n",
      "20170330_3_search.log.tar.gz\n",
      "20170331_1_down.log.tar.gz\n",
      "20170331_1_play.log.tar.gz\n",
      "20170331_1_search.log.tar.gz\n",
      "20170331_2_down.log.tar.gz\n",
      "20170331_2_play.log.tar.gz\n",
      "20170331_2_search.log.tar.gz\n",
      "20170331_3_down.log.tar.gz\n",
      "20170331_3_play.log.tar.gz\n",
      "20170331_3_search.log.tar.gz\n",
      "20170401_1_down.log.tar.gz\n",
      "20170401_1_play.log.tar.gz\n",
      "20170401_1_search.log.tar.gz\n",
      "20170401_2_down.log.tar.gz\n",
      "20170401_2_play.log.tar.gz\n",
      "20170401_2_search.log.tar.gz\n",
      "20170401_3_down.log.tar.gz\n",
      "20170401_3_play.log.tar.gz\n",
      "20170401_3_search.log.tar.gz\n",
      "20170402_1_down.log.tar.gz\n",
      "20170402_1_play.log.tar.gz\n",
      "20170402_1_search.log.tar.gz\n",
      "20170402_2_down.log.tar.gz\n",
      "20170402_2_play.log.tar.gz\n",
      "20170402_2_search.log.tar.gz\n",
      "20170402_3_down.log.tar.gz\n",
      "20170402_3_play.log.tar.gz\n",
      "20170402_3_search.log.tar.gz\n",
      "20170403_1_down.log.tar.gz\n",
      "20170403_1_play.log.tar.gz\n",
      "20170403_1_search.log.tar.gz\n",
      "20170403_2_down.log.tar.gz\n",
      "20170403_2_play.log.tar.gz\n",
      "20170403_2_search.log.tar.gz\n",
      "20170403_3_down.log.tar.gz\n",
      "20170403_3_search.log.tar.gz\n",
      "20170404_1_down.log.tar.gz\n",
      "20170404_1_play.log.tar.gz\n",
      "20170404_1_search.log.tar.gz\n",
      "20170404_2_down.log.tar.gz\n",
      "20170404_2_play.log.tar.gz\n",
      "20170404_2_search.log.tar.gz\n",
      "20170404_3_down.log.tar.gz\n",
      "20170404_3_play.log.tar.gz\n",
      "20170404_3_search.log.tar.gz\n",
      "20170405_1_down.log.tar.gz\n",
      "20170405_1_play.log.tar.gz\n",
      "20170405_1_search.log.tar.gz\n",
      "20170405_2_down.log.tar.gz\n",
      "20170405_2_play.log.tar.gz\n",
      "20170405_2_search.log.tar.gz\n",
      "20170405_3_down.log.tar.gz\n",
      "20170405_3_play.log.tar.gz\n",
      "20170405_3_search.log.tar.gz\n",
      "20170406_1_down.log.tar.gz\n",
      "20170406_1_play.log.tar.gz\n",
      "20170406_1_search.log.tar.gz\n",
      "20170406_2_down.log.tar.gz\n",
      "20170406_2_play.log.tar.gz\n",
      "20170406_2_search.log.tar.gz\n",
      "20170406_3_down.log.tar.gz\n",
      "20170406_3_play.log.tar.gz\n",
      "20170406_3_search.log.tar.gz\n",
      "20170407_1_down.log.tar.gz\n",
      "20170407_1_play.log.tar.gz\n",
      "20170407_1_search.log.tar.gz\n",
      "20170407_2_down.log.tar.gz\n",
      "20170407_2_play.log.tar.gz\n",
      "20170407_2_search.log.tar.gz\n",
      "20170407_3_down.log.tar.gz\n",
      "20170407_3_play.log.tar.gz\n",
      "20170407_3_search.log.tar.gz\n",
      "20170408_1_down.log.tar.gz\n",
      "20170408_1_play.log.tar.gz\n",
      "20170408_1_search.log.tar.gz\n",
      "20170408_2_down.log.tar.gz\n",
      "20170408_2_play.log.tar.gz\n",
      "20170408_2_search.log.tar.gz\n",
      "20170408_3_down.log.tar.gz\n",
      "20170408_3_play.log.tar.gz\n",
      "20170408_3_search.log.tar.gz\n",
      "20170409_1_down.log.tar.gz\n",
      "20170409_1_play.log.tar.gz\n",
      "20170409_1_search.log.tar.gz\n",
      "20170409_2_down.log.tar.gz\n",
      "20170409_2_play.log.tar.gz\n",
      "20170409_2_search.log.tar.gz\n",
      "20170409_3_down.log.tar.gz\n",
      "20170409_3_play.log.tar.gz\n",
      "20170409_3_search.log.tar.gz\n",
      "20170410_1_down.log.tar.gz\n",
      "20170410_1_play.log.tar.gz\n",
      "20170410_1_search.log.tar.gz\n",
      "20170410_2_down.log.tar.gz\n",
      "20170410_2_play.log.tar.gz\n",
      "20170410_2_search.log.tar.gz\n",
      "20170410_3_down.log.tar.gz\n",
      "20170410_3_play.log.tar.gz\n",
      "20170410_3_search.log.tar.gz\n",
      "20170411_1_down.log.tar.gz\n",
      "20170411_1_play.log.tar.gz\n",
      "20170411_1_search.log.tar.gz\n",
      "20170411_2_down.log.tar.gz\n",
      "20170411_2_play.log.tar.gz\n",
      "20170411_2_search.log.tar.gz\n",
      "20170412_1_down.log.tar.gz\n",
      "20170412_1_play.log.tar.gz\n",
      "20170412_1_search.log.tar.gz\n",
      "20170412_2_down.log.tar.gz\n",
      "20170412_2_play.log.tar.gz\n",
      "20170412_2_search.log.tar.gz\n",
      "20170412_3_down.log.tar.gz\n",
      "20170412_3_play.log.tar.gz\n",
      "20170412_3_search.log.tar.gz\n",
      "20170413_1_down.log.tar.gz\n",
      "20170413_1_play.log.tar.gz\n",
      "20170413_1_search.log.tar.gz\n",
      "20170413_2_down.log.tar.gz\n",
      "20170413_2_play.log.tar.gz\n",
      "20170413_2_search.log.tar.gz\n",
      "20170413_3_down.log.tar.gz\n",
      "20170413_3_play.log.tar.gz\n",
      "20170413_3_search.log.tar.gz\n",
      "20170414_1_down.log.tar.gz\n",
      "20170414_1_play.log.tar.gz\n",
      "20170414_1_search.log.tar.gz\n",
      "20170414_2_down.log.tar.gz\n",
      "20170414_2_play.log.tar.gz\n",
      "20170414_2_search.log.tar.gz\n",
      "20170414_3_down.log.tar.gz\n",
      "20170414_3_play.log.tar.gz\n",
      "20170414_3_search.log.tar.gz\n",
      "20170415_1_down.log.tar.gz\n",
      "20170415_1_play.log.tar.gz\n",
      "20170415_1_search.log.tar.gz\n",
      "20170415_2_down.log.tar.gz\n",
      "20170415_2_play.log.tar.gz\n",
      "20170415_2_search.log.tar.gz\n",
      "20170415_3_down.log.tar.gz\n",
      "20170415_3_play.log.tar.gz\n",
      "20170415_3_search.log.tar.gz\n",
      "20170416_1_down.log.tar.gz\n",
      "20170416_1_play.log.tar.gz\n",
      "20170416_1_search.log.tar.gz\n",
      "20170416_2_down.log.tar.gz\n",
      "20170416_2_play.log.tar.gz\n",
      "20170416_2_search.log.tar.gz\n",
      "20170416_3_down.log.tar.gz\n",
      "20170416_3_play.log.tar.gz\n",
      "20170416_3_search.log.tar.gz\n",
      "20170417_1_down.log.tar.gz\n",
      "20170417_1_play.log.tar.gz\n",
      "20170417_1_search.log.tar.gz\n",
      "20170417_2_down.log.tar.gz\n",
      "20170417_2_play.log.tar.gz\n",
      "20170417_2_search.log.tar.gz\n",
      "20170417_3_down.log.tar.gz\n",
      "20170417_3_play.log.tar.gz\n",
      "20170417_3_search.log.tar.gz\n",
      "20170418_1_down.log.tar.gz\n",
      "20170418_1_play.log.tar.gz\n",
      "20170418_1_search.log.tar.gz\n",
      "20170418_2_down.log.tar.gz\n",
      "20170418_2_play.log.tar.gz\n",
      "20170418_2_search.log.tar.gz\n",
      "20170418_3_down.log.tar.gz\n",
      "20170418_3_play.log.tar.gz\n",
      "20170418_3_search.log.tar.gz\n",
      "20170419_1_down.log.tar.gz\n",
      "20170419_1_play.log.tar.gz\n",
      "20170419_1_search.log.tar.gz\n",
      "20170419_2_down.log.tar.gz\n",
      "20170419_2_play.log.tar.gz\n",
      "20170419_2_search.log.tar.gz\n",
      "20170419_3_down.log.tar.gz\n",
      "20170419_3_play.log.tar.gz\n",
      "20170419_3_search.log.tar.gz\n",
      "20170420_1_down.log.tar.gz\n",
      "20170420_1_play.log.tar.gz\n",
      "20170420_1_search.log.tar.gz\n",
      "20170420_2_down.log.tar.gz\n",
      "20170420_2_play.log.tar.gz\n",
      "20170420_2_search.log.tar.gz\n",
      "20170420_3_down.log.tar.gz\n",
      "20170420_3_play.log.tar.gz\n",
      "20170420_3_search.log.tar.gz\n",
      "20170421_1_down.log.tar.gz\n",
      "20170421_1_play.log.tar.gz\n",
      "20170421_1_search.log.tar.gz\n",
      "20170421_2_down.log.tar.gz\n",
      "20170421_2_play.log.tar.gz\n",
      "20170421_2_search.log.tar.gz\n",
      "20170421_3_down.log.tar.gz\n",
      "20170421_3_play.log.tar.gz\n",
      "20170421_3_search.log.tar.gz\n",
      "20170422_1_down.log.tar.gz\n",
      "20170422_1_play.log.tar.gz\n",
      "20170422_1_search.log.tar.gz\n",
      "20170422_2_down.log.tar.gz\n",
      "20170422_2_play.log.tar.gz\n",
      "20170422_2_search.log.tar.gz\n",
      "20170422_3_down.log.tar.gz\n",
      "20170422_3_play.log (1).tar.gz\n",
      "20170422_3_play.log.tar.gz\n",
      "20170422_3_search.log.tar.gz\n",
      "20170423_1_down.log.tar.gz\n",
      "20170423_1_play.log.tar.gz\n",
      "20170423_1_search.log.tar.gz\n",
      "20170423_2_down.log.tar.gz\n",
      "20170423_2_play.log.tar.gz\n",
      "20170423_2_search.log.tar.gz\n",
      "20170423_3_down.log.tar.gz\n",
      "20170423_3_play.log.tar.gz\n",
      "20170423_3_search.log.tar.gz\n",
      "20170424_1_down.log.tar.gz\n",
      "20170424_1_play.log.tar.gz\n",
      "20170424_1_search.log.tar.gz\n",
      "20170424_2_down.log.tar.gz\n",
      "20170424_2_play.log.tar.gz\n",
      "20170424_2_search.log.tar.gz\n",
      "20170424_3_down.log.tar.gz\n",
      "20170424_3_play.log.tar.gz\n",
      "20170424_3_search.log.tar.gz\n",
      "20170425_1_down.log.tar.gz\n",
      "20170425_1_play.log.tar.gz\n",
      "20170425_1_search.log.tar.gz\n",
      "20170425_2_down.log.tar.gz\n",
      "20170425_2_play.log.tar.gz\n",
      "20170425_2_search.log.tar.gz\n",
      "20170425_3_down.log.tar.gz\n",
      "20170425_3_play.log.tar.gz\n",
      "20170425_3_search.log.tar.gz\n",
      "20170426_1_down.log.tar.gz\n",
      "20170426_1_play.log.tar.gz\n",
      "20170426_1_search.log.tar.gz\n",
      "20170426_2_down.log.tar.gz\n",
      "20170426_2_play.log.tar.gz\n",
      "20170426_2_search.log.tar.gz\n",
      "20170426_3_down.log.tar.gz\n",
      "20170426_3_play.log.tar.gz\n",
      "20170426_3_search.log.tar.gz\n",
      "20170427_1_down.log.tar.gz\n",
      "20170427_1_play.log.tar.gz\n",
      "20170427_1_search.log.tar.gz\n",
      "20170427_2_down.log.tar.gz\n",
      "20170427_2_play.log.tar.gz\n",
      "20170427_2_search.log.tar.gz\n",
      "20170427_3_down.log.tar.gz\n",
      "20170427_3_play.log.tar.gz\n",
      "20170427_3_search.log.tar.gz\n",
      "20170428_1_down.log.tar.gz\n",
      "20170428_1_play.log.tar.gz\n",
      "20170428_1_search.log.tar.gz\n",
      "20170428_2_down.log.tar.gz\n",
      "20170428_2_play.log.tar.gz\n",
      "20170428_2_search.log.tar.gz\n",
      "20170428_3_down.log.tar.gz\n",
      "20170428_3_play.log.tar.gz\n",
      "20170428_3_search.log.tar.gz\n",
      "20170429_1_down.log.tar.gz\n",
      "20170429_1_play.log.tar.gz\n",
      "20170429_1_search.log.tar.gz\n",
      "20170429_2_down.log.tar.gz\n",
      "20170429_2_play.log.tar.gz\n",
      "20170429_2_search.log.tar.gz\n",
      "20170429_3_down.log.tar.gz\n",
      "20170429_3_play.log.tar.gz\n",
      "20170429_3_search.log.tar.gz\n",
      "20170430_1_down.log.tar.gz\n",
      "20170430_1_play.log.tar.gz\n",
      "20170430_1_search.log.tar.gz\n",
      "20170430_2_down.log.tar.gz\n",
      "20170430_2_play.log.tar.gz\n",
      "20170430_2_search.log.tar.gz\n",
      "20170430_3_down.log.tar.gz\n",
      "20170430_3_play.log.tar.gz\n",
      "20170430_3_search.log.tar.gz\n",
      "20170501_1_down.log.tar.gz\n",
      "20170501_1_play.log.tar.gz\n",
      "20170501_1_search.log.tar.gz\n",
      "20170501_2_down.log.tar.gz\n",
      "20170501_2_play.log.tar.gz\n",
      "20170501_2_search.log.tar.gz\n",
      "20170501_3_down.log.tar.gz\n",
      "20170501_3_play.log.tar.gz\n",
      "20170501_3_search.log.tar.gz\n",
      "20170502_1_down.log.tar.gz\n",
      "20170502_1_play.log.tar.gz\n",
      "20170502_1_search.log.tar.gz\n",
      "20170502_2_down.log.tar.gz\n",
      "20170502_2_play.log.tar.gz\n",
      "20170502_2_search.log.tar.gz\n",
      "20170502_3_down.log.tar.gz\n",
      "20170502_3_play.log.tar.gz\n",
      "20170502_3_search.log.tar.gz\n",
      "20170503_1_down.log.tar.gz\n",
      "20170503_1_play.log.tar.gz\n",
      "20170503_1_search.log.tar.gz\n",
      "20170503_2_down.log.tar.gz\n",
      "20170503_2_play.log.tar.gz\n",
      "20170503_2_search.log.tar.gz\n",
      "20170503_3_down.log.tar.gz\n",
      "20170503_3_play.log.tar.gz\n",
      "20170503_3_search.log.tar.gz\n",
      "20170504_1_down.log.tar.gz\n",
      "20170504_1_play.log.tar.gz\n",
      "20170504_1_search.log.tar.gz\n",
      "20170504_2_down.log.tar.gz\n",
      "20170504_2_play.log.tar.gz\n",
      "20170504_2_search.log.tar.gz\n",
      "20170504_3_down.log.tar.gz\n",
      "20170504_3_play.log.tar.gz\n",
      "20170504_3_search.log.tar.gz\n",
      "20170505_1_down.log.tar.gz\n",
      "20170505_1_play.log.tar.gz\n",
      "20170505_1_search.log.tar.gz\n",
      "20170505_2_down.log.tar.gz\n",
      "20170505_2_play.log.tar.gz\n",
      "20170505_2_search.log.tar.gz\n",
      "20170505_3_down.log.tar.gz\n",
      "20170505_3_play.log.tar.gz\n",
      "20170505_3_search.log.tar.gz\n",
      "20170506_1_down.log.tar.gz\n",
      "20170506_1_play.log.tar.gz\n",
      "20170506_1_search.log.tar.gz\n",
      "20170506_2_down.log.tar.gz\n",
      "20170506_2_play.log.tar.gz\n",
      "20170506_2_search.log.tar.gz\n",
      "20170506_3_down.log.tar.gz\n",
      "20170506_3_play.log.tar.gz\n",
      "20170506_3_search.log.tar.gz\n",
      "20170507_1_down.log.tar.gz\n",
      "20170507_1_play.log.tar.gz\n",
      "20170507_1_search.log.tar.gz\n",
      "20170507_2_down.log.tar.gz\n",
      "20170507_2_play.log.tar.gz\n",
      "20170507_2_search.log.tar.gz\n",
      "20170507_3_down.log.tar.gz\n",
      "20170507_3_play.log.tar.gz\n",
      "20170507_3_search.log.tar.gz\n",
      "20170508_1_down.log.tar.gz\n",
      "20170508_1_play.log.tar.gz\n",
      "20170508_1_search.log.tar.gz\n",
      "20170508_2_down.log.tar.gz\n",
      "20170508_2_play.log.tar.gz\n",
      "20170508_2_search.log.tar.gz\n",
      "20170508_3_down.log.tar.gz\n",
      "20170508_3_play.log.tar.gz\n",
      "20170508_3_search.log.tar.gz\n",
      "20170509_1_down.log.tar.gz\n",
      "20170509_1_play.log.tar.gz\n",
      "20170509_1_search.log.tar.gz\n",
      "20170509_2_down.log.tar.gz\n",
      "20170509_2_play.log.tar.gz\n",
      "20170509_2_search.log.tar.gz\n",
      "20170509_3_down.log.tar.gz\n",
      "20170509_3_play.log.tar.gz\n",
      "20170509_3_search.log.tar.gz\n",
      "20170510_1_down.log.tar.gz\n",
      "20170510_1_play.log.tar.gz\n",
      "20170510_1_search.log.tar.gz\n",
      "20170510_2_down.log.tar.gz\n",
      "20170510_2_play.log.tar.gz\n",
      "20170510_2_search.log.tar.gz\n",
      "20170510_3_down.log.tar.gz\n",
      "20170510_3_play.log.tar.gz\n",
      "20170510_3_search.log.tar.gz\n",
      "20170511_1_down.log.tar.gz\n",
      "20170511_1_play.log.tar.gz\n",
      "20170511_1_search.log.tar.gz\n",
      "20170511_2_down.log.tar.gz\n",
      "20170511_2_play.log.tar.gz\n",
      "20170511_2_search.log.tar.gz\n",
      "20170511_3_down.log.tar.gz\n",
      "20170511_3_play.log.tar.gz\n",
      "20170511_3_search.log.tar.gz\n",
      "20170512_1_down.log.tar.gz\n",
      "20170512_1_play.log.tar.gz\n",
      "20170512_1_search.log.tar.gz\n",
      "20170512_2_down.log.tar.gz\n",
      "20170512_2_play.log.tar.gz\n",
      "20170512_2_search.log.tar.gz\n",
      "20170512_3_down.log.tar.gz\n",
      "20170512_3_play.log.tar.gz\n",
      "20170512_3_search.log.tar.gz\n",
      "3_1.uids.gz\n",
      "list.html\n"
     ]
    }
   ],
   "source": [
    "print(*files, sep = '\\n')"
   ]
  },
  {
   "cell_type": "code",
   "execution_count": 4,
   "metadata": {},
   "outputs": [],
   "source": [
    "file_list = [row for row in files if ('search.log.tar.gz' in row or\n",
    "                                      'play.log.tar.gz' in row or\n",
    "                                      'down.log.tar.gz' in row)]\n",
    "# '20170422_3_play.log (1).tar.gz' is the same as '20170422_3_play.log.tar.gz'\n",
    "\n",
    "# select files with date later than 2017-03-29\n",
    "file_list = [row for row in file_list if row[:8]>='20170330']"
   ]
  },
  {
   "cell_type": "code",
   "execution_count": 5,
   "metadata": {},
   "outputs": [],
   "source": [
    "def download_file(url, local_filename):\n",
    "    r = requests.get(url, stream = True)  # ‘stream = True’ to delay downloading\n",
    "    with open(local_filename, 'wb') as f:  # ‘wb’ to open in binary write mode\n",
    "        for chunk in r.iter_content(chunk_size = 1024):\n",
    "            if chunk:  # filter out keep-alive new chunks\n",
    "                f.write(chunk)\n",
    "    return local_filename"
   ]
  },
  {
   "cell_type": "code",
   "execution_count": 7,
   "metadata": {},
   "outputs": [],
   "source": [
    "# download the files\n",
    "for file in file_list[]:\n",
    "    download_file('https://bittigermusicplayerdata.s3-us-west-2.amazonaws.com/' + file,\n",
    "                  '../data/raw/' + file)"
   ]
  },
  {
   "cell_type": "markdown",
   "metadata": {},
   "source": [
    "### 2.4 Process files"
   ]
  },
  {
   "cell_type": "code",
   "execution_count": 11,
   "metadata": {},
   "outputs": [
    {
     "data": {
      "text/plain": [
       "['Processing 20170330_3_play.log',\n",
       " 'Processing 20170331_1_play.log',\n",
       " 'Processing 20170331_2_play.log',\n",
       " 'Processing 20170331_3_play.log',\n",
       " 'Processing 20170401_1_play.log',\n",
       " 'Processing 20170401_2_play.log',\n",
       " 'Processing 20170401_3_play.log',\n",
       " 'Processing 20170402_1_play.log',\n",
       " 'Processing 20170402_2_play.log',\n",
       " 'Processing 20170402_3_play.log',\n",
       " 'Processing 20170403_1_play.log',\n",
       " 'Processing 20170403_2_play.log',\n",
       " 'Processing 20170404_1_play.log',\n",
       " 'Processing 20170404_2_play.log',\n",
       " 'Processing 20170404_3_play.log',\n",
       " 'Processing 20170405_1_play.log',\n",
       " 'Processing 20170405_2_play.log',\n",
       " 'Processing 20170405_3_play.log',\n",
       " 'Processing 20170406_1_play.log',\n",
       " 'Processing 20170406_2_play.log',\n",
       " 'Processing 20170406_3_play.log',\n",
       " 'Processing 20170407_1_play.log',\n",
       " 'Processing 20170407_2_play.log',\n",
       " 'Processing 20170407_3_play.log',\n",
       " 'Processing 20170408_1_play.log',\n",
       " 'Processing 20170408_2_play.log',\n",
       " 'Processing 20170408_3_play.log',\n",
       " 'Processing 20170409_1_play.log',\n",
       " 'Processing 20170409_2_play.log',\n",
       " 'Processing 20170409_3_play.log',\n",
       " 'Processing 20170410_1_play.log',\n",
       " 'Processing 20170410_2_play.log',\n",
       " 'Processing 20170410_3_play.log',\n",
       " 'Processing 20170411_1_play.log',\n",
       " 'Processing 20170411_2_play.log',\n",
       " 'Processing 20170412_1_play.log',\n",
       " 'Processing 20170412_2_play.log',\n",
       " 'Processing 20170412_3_play.log',\n",
       " 'Processing 20170413_1_play.log',\n",
       " 'Processing 20170413_2_play.log',\n",
       " 'Processing 20170413_3_play.log',\n",
       " 'Processing 20170414_1_play.log',\n",
       " 'Processing 20170414_2_play.log',\n",
       " 'Processing 20170414_3_play.log',\n",
       " 'Processing 20170415_1_play.log',\n",
       " 'Processing 20170415_2_play.log',\n",
       " 'Processing 20170415_3_play.log',\n",
       " 'Processing 20170416_1_play.log',\n",
       " 'Processing 20170416_2_play.log',\n",
       " 'Processing 20170416_3_play.log',\n",
       " 'Processing 20170417_1_play.log',\n",
       " 'Processing 20170417_2_play.log',\n",
       " 'Processing 20170417_3_play.log',\n",
       " 'Processing 20170418_1_play.log',\n",
       " 'Processing 20170418_2_play.log',\n",
       " 'Processing 20170418_3_play.log',\n",
       " 'Processing 20170419_1_play.log',\n",
       " 'Processing 20170419_2_play.log',\n",
       " 'Processing 20170419_3_play.log',\n",
       " 'Processing 20170420_1_play.log',\n",
       " 'Processing 20170420_2_play.log',\n",
       " 'Processing 20170420_3_play.log',\n",
       " 'Processing 20170421_1_play.log',\n",
       " 'Processing 20170421_2_play.log',\n",
       " 'Processing 20170421_3_play.log',\n",
       " 'Processing 20170422_1_play.log',\n",
       " 'Processing 20170422_2_play.log',\n",
       " 'Processing 20170422_3_play.log',\n",
       " 'Processing 20170423_1_play.log',\n",
       " 'Processing 20170423_2_play.log',\n",
       " 'Processing 20170423_3_play.log',\n",
       " 'Processing 20170424_1_play.log',\n",
       " 'Processing 20170424_2_play.log',\n",
       " 'Processing 20170424_3_play.log',\n",
       " 'Processing 20170425_1_play.log',\n",
       " 'Processing 20170425_2_play.log',\n",
       " 'Processing 20170425_3_play.log',\n",
       " 'Processing 20170426_1_play.log',\n",
       " 'Processing 20170426_2_play.log',\n",
       " 'Processing 20170426_3_play.log',\n",
       " 'Processing 20170427_1_play.log',\n",
       " 'Processing 20170427_2_play.log',\n",
       " 'Processing 20170427_3_play.log',\n",
       " 'Processing 20170428_1_play.log',\n",
       " 'Processing 20170428_2_play.log',\n",
       " 'Processing 20170428_3_play.log',\n",
       " 'Processing 20170429_1_play.log',\n",
       " 'Processing 20170429_2_play.log',\n",
       " 'Processing 20170429_3_play.log',\n",
       " 'Processing 20170430_1_play.log',\n",
       " 'Processing 20170430_2_play.log',\n",
       " 'Processing 20170430_3_play.log',\n",
       " 'Processing 20170501_1_play.log',\n",
       " 'Processing 20170501_2_play.log',\n",
       " 'Processing 20170501_3_play.log',\n",
       " 'Processing 20170502_1_play.log',\n",
       " 'Processing 20170502_2_play.log',\n",
       " 'Processing 20170502_3_play.log',\n",
       " 'Processing 20170503_1_play.log',\n",
       " 'Processing 20170503_2_play.log',\n",
       " 'Processing 20170503_3_play.log',\n",
       " 'Processing 20170504_1_play.log',\n",
       " 'Processing 20170504_2_play.log',\n",
       " 'Processing 20170504_3_play.log',\n",
       " 'Processing 20170505_1_play.log',\n",
       " 'Processing 20170505_2_play.log',\n",
       " 'Processing 20170505_3_play.log',\n",
       " 'Processing 20170506_1_play.log',\n",
       " 'Processing 20170506_2_play.log',\n",
       " 'Processing 20170506_3_play.log',\n",
       " 'Processing 20170507_1_play.log',\n",
       " 'Processing 20170507_2_play.log',\n",
       " 'Processing 20170507_3_play.log',\n",
       " 'Processing 20170508_1_play.log',\n",
       " 'Processing 20170508_2_play.log',\n",
       " 'Processing 20170508_3_play.log',\n",
       " 'Processing 20170509_1_play.log',\n",
       " 'Processing 20170509_2_play.log',\n",
       " 'Processing 20170509_3_play.log',\n",
       " 'Processing 20170510_1_play.log',\n",
       " 'Processing 20170510_2_play.log',\n",
       " 'Processing 20170510_3_play.log',\n",
       " 'Processing 20170511_1_play.log',\n",
       " 'Processing 20170511_2_play.log',\n",
       " 'Processing 20170511_3_play.log',\n",
       " 'Processing 20170512_1_play.log',\n",
       " 'Processing 20170512_2_play.log',\n",
       " 'Processing 20170512_3_play.log']"
      ]
     },
     "execution_count": 11,
     "metadata": {},
     "output_type": "execute_result"
    }
   ],
   "source": [
    "# process play log (about 10 min)\n",
    "os.chdir(\"../data/play\")\n",
    "os.popen('for f in ../raw/*_play.log.tar.gz;do \\\n",
    "              tar -xvzf $f -C .; \\\n",
    "              file=$(ls *.log); \\\n",
    "              echo \"Processing $file\"; \\\n",
    "              awk -v var=\"$file\" \\'{print $0, \"\\t\", substr(var, 1, 8)}\\' $file >> all_play_log; \\\n",
    "              rm $file; \\\n",
    "          done').read().splitlines()"
   ]
  },
  {
   "cell_type": "code",
   "execution_count": 8,
   "metadata": {},
   "outputs": [
    {
     "data": {
      "text/plain": [
       "['Processing 20170330_1_down.log',\n",
       " 'Processing 20170330_2_down.log',\n",
       " 'Processing 20170330_3_down.log',\n",
       " 'Processing 20170331_1_down.log',\n",
       " 'Processing 20170331_3_down.log',\n",
       " 'Processing 20170401_1_down.log',\n",
       " 'Processing 20170401_2_down.log',\n",
       " 'Processing 20170401_3_down.log',\n",
       " 'Processing 20170402_1_down.log',\n",
       " 'Processing 20170402_2_down.log',\n",
       " 'Processing 20170402_3_down.log',\n",
       " 'Processing 20170403_1_down.log',\n",
       " 'Processing 20170403_2_down.log',\n",
       " 'Processing 20170403_3_down.log',\n",
       " 'Processing 20170404_1_down.log',\n",
       " 'Processing 20170404_2_down.log',\n",
       " 'Processing 20170404_3_down.log',\n",
       " 'Processing 20170405_1_down.log',\n",
       " 'Processing 20170405_2_down.log',\n",
       " 'Processing 20170405_3_down.log',\n",
       " 'Processing 20170406_1_down.log',\n",
       " 'Processing 20170406_2_down.log',\n",
       " 'Processing 20170406_3_down.log',\n",
       " 'Processing 20170407_1_down.log',\n",
       " 'Processing 20170407_2_down.log',\n",
       " 'Processing 20170407_3_down.log',\n",
       " 'Processing 20170408_1_down.log',\n",
       " 'Processing 20170408_2_down.log',\n",
       " 'Processing 20170408_3_down.log',\n",
       " 'Processing 20170409_1_down.log',\n",
       " 'Processing 20170409_2_down.log',\n",
       " 'Processing 20170409_3_down.log',\n",
       " 'Processing 20170410_1_down.log',\n",
       " 'Processing 20170410_2_down.log',\n",
       " 'Processing 20170410_3_down.log',\n",
       " 'Processing 20170411_1_down.log',\n",
       " 'Processing 20170411_2_down.log',\n",
       " 'Processing 20170412_1_down.log',\n",
       " 'Processing 20170412_2_down.log',\n",
       " 'Processing 20170412_3_down.log',\n",
       " 'Processing 20170413_1_down.log',\n",
       " 'Processing 20170413_2_down.log',\n",
       " 'Processing 20170413_3_down.log',\n",
       " 'Processing 20170414_1_down.log',\n",
       " 'Processing 20170414_2_down.log',\n",
       " 'Processing 20170414_3_down.log',\n",
       " 'Processing 20170415_1_down.log',\n",
       " 'Processing 20170415_2_down.log',\n",
       " 'Processing 20170415_3_down.log',\n",
       " 'Processing 20170416_1_down.log',\n",
       " 'Processing 20170416_2_down.log',\n",
       " 'Processing 20170416_3_down.log',\n",
       " 'Processing 20170417_1_down.log',\n",
       " 'Processing 20170417_2_down.log',\n",
       " 'Processing 20170417_3_down.log',\n",
       " 'Processing 20170418_1_down.log',\n",
       " 'Processing 20170418_2_down.log',\n",
       " 'Processing 20170418_3_down.log',\n",
       " 'Processing 20170419_1_down.log',\n",
       " 'Processing 20170419_2_down.log',\n",
       " 'Processing 20170419_3_down.log',\n",
       " 'Processing 20170420_1_down.log',\n",
       " 'Processing 20170420_2_down.log',\n",
       " 'Processing 20170420_3_down.log',\n",
       " 'Processing 20170421_1_down.log',\n",
       " 'Processing 20170421_2_down.log',\n",
       " 'Processing 20170421_3_down.log',\n",
       " 'Processing 20170422_1_down.log',\n",
       " 'Processing 20170422_2_down.log',\n",
       " 'Processing 20170422_3_down.log',\n",
       " 'Processing 20170423_1_down.log',\n",
       " 'Processing 20170423_2_down.log',\n",
       " 'Processing 20170423_3_down.log',\n",
       " 'Processing 20170424_1_down.log',\n",
       " 'Processing 20170424_2_down.log',\n",
       " 'Processing 20170424_3_down.log',\n",
       " 'Processing 20170425_1_down.log',\n",
       " 'Processing 20170425_2_down.log',\n",
       " 'Processing 20170425_3_down.log',\n",
       " 'Processing 20170426_1_down.log',\n",
       " 'Processing 20170426_2_down.log',\n",
       " 'Processing 20170426_3_down.log',\n",
       " 'Processing 20170427_1_down.log',\n",
       " 'Processing 20170427_2_down.log',\n",
       " 'Processing 20170427_3_down.log',\n",
       " 'Processing 20170428_1_down.log',\n",
       " 'Processing 20170428_2_down.log',\n",
       " 'Processing 20170428_3_down.log',\n",
       " 'Processing 20170429_1_down.log',\n",
       " 'Processing 20170429_2_down.log',\n",
       " 'Processing 20170429_3_down.log',\n",
       " 'Processing 20170430_1_down.log',\n",
       " 'Processing 20170430_2_down.log',\n",
       " 'Processing 20170430_3_down.log',\n",
       " 'Processing 20170501_1_down.log',\n",
       " 'Processing 20170501_2_down.log',\n",
       " 'Processing 20170501_3_down.log',\n",
       " 'Processing 20170502_1_down.log',\n",
       " 'Processing 20170502_2_down.log',\n",
       " 'Processing 20170502_3_down.log',\n",
       " 'Processing 20170503_1_down.log',\n",
       " 'Processing 20170503_2_down.log',\n",
       " 'Processing 20170503_3_down.log',\n",
       " 'Processing 20170504_1_down.log',\n",
       " 'Processing 20170504_2_down.log',\n",
       " 'Processing 20170504_3_down.log',\n",
       " 'Processing 20170505_1_down.log',\n",
       " 'Processing 20170505_2_down.log',\n",
       " 'Processing 20170505_3_down.log',\n",
       " 'Processing 20170506_1_down.log',\n",
       " 'Processing 20170506_2_down.log',\n",
       " 'Processing 20170506_3_down.log',\n",
       " 'Processing 20170507_1_down.log',\n",
       " 'Processing 20170507_2_down.log',\n",
       " 'Processing 20170507_3_down.log',\n",
       " 'Processing 20170508_1_down.log',\n",
       " 'Processing 20170508_2_down.log',\n",
       " 'Processing 20170508_3_down.log',\n",
       " 'Processing 20170509_1_down.log',\n",
       " 'Processing 20170509_2_down.log',\n",
       " 'Processing 20170509_3_down.log',\n",
       " 'Processing 20170510_1_down.log',\n",
       " 'Processing 20170510_2_down.log',\n",
       " 'Processing 20170510_3_down.log',\n",
       " 'Processing 20170511_1_down.log',\n",
       " 'Processing 20170511_2_down.log',\n",
       " 'Processing 20170511_3_down.log',\n",
       " 'Processing 20170512_1_down.log',\n",
       " 'Processing 20170512_2_down.log',\n",
       " 'Processing 20170512_3_down.log']"
      ]
     },
     "execution_count": 8,
     "metadata": {},
     "output_type": "execute_result"
    }
   ],
   "source": [
    "# process down log (pay attention to filename after decompressing)\n",
    "os.chdir(\"../down\")\n",
    "os.popen('for f in ../raw/*_down.log.tar.gz;do \\\n",
    "              file_tmp=${f//..\\/raw\\//\"\"}; \\\n",
    "              tar -xvzf $f -C .; \\\n",
    "              mv *.log ${file_tmp//.tar.gz/\"\"}; \\\n",
    "              file=$(ls *.log); \\\n",
    "              echo \"Processing $file\"; \\\n",
    "              awk -v var=\"$file\" \\'{print $0, \"\\t\", substr(var, 1, 8)}\\' $file >> all_down_log; \\\n",
    "              rm $file; \\\n",
    "          done').read().splitlines()"
   ]
  },
  {
   "cell_type": "code",
   "execution_count": 9,
   "metadata": {},
   "outputs": [
    {
     "data": {
      "text/plain": [
       "['Processing 20170330_1_search.log',\n",
       " 'Processing 20170330_2_search.log',\n",
       " 'Processing 20170330_3_search.log',\n",
       " 'Processing 20170331_1_search.log',\n",
       " 'Processing 20170331_2_search.log',\n",
       " 'Processing 20170331_3_search.log',\n",
       " 'Processing 20170401_1_search.log',\n",
       " 'Processing 20170401_2_search.log',\n",
       " 'Processing 20170401_3_search.log',\n",
       " 'Processing 20170402_1_search.log',\n",
       " 'Processing 20170402_2_search.log',\n",
       " 'Processing 20170402_3_search.log',\n",
       " 'Processing 20170403_1_search.log',\n",
       " 'Processing 20170403_2_search.log',\n",
       " 'Processing 20170403_3_search.log',\n",
       " 'Processing 20170404_1_search.log',\n",
       " 'Processing 20170404_2_search.log',\n",
       " 'Processing 20170404_3_search.log',\n",
       " 'Processing 20170405_1_search.log',\n",
       " 'Processing 20170405_2_search.log',\n",
       " 'Processing 20170405_3_search.log',\n",
       " 'Processing 20170406_1_search.log',\n",
       " 'Processing 20170406_2_search.log',\n",
       " 'Processing 20170406_3_search.log',\n",
       " 'Processing 20170407_1_search.log',\n",
       " 'Processing 20170407_2_search.log',\n",
       " 'Processing 20170407_3_search.log',\n",
       " 'Processing 20170408_1_search.log',\n",
       " 'Processing 20170408_2_search.log',\n",
       " 'Processing 20170408_3_search.log',\n",
       " 'Processing 20170409_1_search.log',\n",
       " 'Processing 20170409_2_search.log',\n",
       " 'Processing 20170409_3_search.log',\n",
       " 'Processing 20170410_1_search.log',\n",
       " 'Processing 20170410_2_search.log',\n",
       " 'Processing 20170410_3_search.log',\n",
       " 'Processing 20170411_1_search.log',\n",
       " 'Processing 20170411_2_search.log',\n",
       " 'Processing 20170412_1_search.log',\n",
       " 'Processing 20170412_2_search.log',\n",
       " 'Processing 20170412_3_search.log',\n",
       " 'Processing 20170413_1_search.log',\n",
       " 'Processing 20170413_2_search.log',\n",
       " 'Processing 20170413_3_search.log',\n",
       " 'Processing 20170414_1_search.log',\n",
       " 'Processing 20170414_2_search.log',\n",
       " 'Processing 20170414_3_search.log',\n",
       " 'Processing 20170415_1_search.log',\n",
       " 'Processing 20170415_2_search.log',\n",
       " 'Processing 20170415_3_search.log',\n",
       " 'Processing 20170416_1_search.log',\n",
       " 'Processing 20170416_2_search.log',\n",
       " 'Processing 20170416_3_search.log',\n",
       " 'Processing 20170417_1_search.log',\n",
       " 'Processing 20170417_2_search.log',\n",
       " 'Processing 20170417_3_search.log',\n",
       " 'Processing 20170418_1_search.log',\n",
       " 'Processing 20170418_2_search.log',\n",
       " 'Processing 20170418_3_search.log',\n",
       " 'Processing 20170419_1_search.log',\n",
       " 'Processing 20170419_2_search.log',\n",
       " 'Processing 20170419_3_search.log',\n",
       " 'Processing 20170420_1_search.log',\n",
       " 'Processing 20170420_2_search.log',\n",
       " 'Processing 20170420_3_search.log',\n",
       " 'Processing 20170421_1_search.log',\n",
       " 'Processing 20170421_2_search.log',\n",
       " 'Processing 20170421_3_search.log',\n",
       " 'Processing 20170422_1_search.log',\n",
       " 'Processing 20170422_2_search.log',\n",
       " 'Processing 20170422_3_search.log',\n",
       " 'Processing 20170423_1_search.log',\n",
       " 'Processing 20170423_2_search.log',\n",
       " 'Processing 20170423_3_search.log',\n",
       " 'Processing 20170424_1_search.log',\n",
       " 'Processing 20170424_2_search.log',\n",
       " 'Processing 20170424_3_search.log',\n",
       " 'Processing 20170425_1_search.log',\n",
       " 'Processing 20170425_2_search.log',\n",
       " 'Processing 20170425_3_search.log',\n",
       " 'Processing 20170426_1_search.log',\n",
       " 'Processing 20170426_2_search.log',\n",
       " 'Processing 20170426_3_search.log',\n",
       " 'Processing 20170427_1_search.log',\n",
       " 'Processing 20170427_2_search.log',\n",
       " 'Processing 20170427_3_search.log',\n",
       " 'Processing 20170428_1_search.log',\n",
       " 'Processing 20170428_2_search.log',\n",
       " 'Processing 20170428_3_search.log',\n",
       " 'Processing 20170429_1_search.log',\n",
       " 'Processing 20170429_2_search.log',\n",
       " 'Processing 20170429_3_search.log',\n",
       " 'Processing 20170430_1_search.log',\n",
       " 'Processing 20170430_2_search.log',\n",
       " 'Processing 20170430_3_search.log',\n",
       " 'Processing 20170501_1_search.log',\n",
       " 'Processing 20170501_2_search.log',\n",
       " 'Processing 20170501_3_search.log',\n",
       " 'Processing 20170502_1_search.log',\n",
       " 'Processing 20170502_2_search.log',\n",
       " 'Processing 20170502_3_search.log',\n",
       " 'Processing 20170503_1_search.log',\n",
       " 'Processing 20170503_2_search.log',\n",
       " 'Processing 20170503_3_search.log',\n",
       " 'Processing 20170504_1_search.log',\n",
       " 'Processing 20170504_2_search.log',\n",
       " 'Processing 20170504_3_search.log',\n",
       " 'Processing 20170505_1_search.log',\n",
       " 'Processing 20170505_2_search.log',\n",
       " 'Processing 20170505_3_search.log',\n",
       " 'Processing 20170506_1_search.log',\n",
       " 'Processing 20170506_2_search.log',\n",
       " 'Processing 20170506_3_search.log',\n",
       " 'Processing 20170507_1_search.log',\n",
       " 'Processing 20170507_2_search.log',\n",
       " 'Processing 20170507_3_search.log',\n",
       " 'Processing 20170508_1_search.log',\n",
       " 'Processing 20170508_2_search.log',\n",
       " 'Processing 20170508_3_search.log',\n",
       " 'Processing 20170509_1_search.log',\n",
       " 'Processing 20170509_2_search.log',\n",
       " 'Processing 20170509_3_search.log',\n",
       " 'Processing 20170510_1_search.log',\n",
       " 'Processing 20170510_2_search.log',\n",
       " 'Processing 20170510_3_search.log',\n",
       " 'Processing 20170511_1_search.log',\n",
       " 'Processing 20170511_2_search.log',\n",
       " 'Processing 20170511_3_search.log',\n",
       " 'Processing 20170512_1_search.log',\n",
       " 'Processing 20170512_2_search.log',\n",
       " 'Processing 20170512_3_search.log']"
      ]
     },
     "execution_count": 9,
     "metadata": {},
     "output_type": "execute_result"
    }
   ],
   "source": [
    "# process search log (pay attention to filename after decompressing & the third column is also date)\n",
    "os.chdir(\"../search\")\n",
    "os.popen('for f in ../raw/*_search.log.tar.gz;do \\\n",
    "              file_tmp=${f//..\\/raw\\//\"\"}; \\\n",
    "              tar -xvzf $f -C .; \\\n",
    "              mv *.log ${file_tmp//.tar.gz/\"\"}; \\\n",
    "              file=$(ls *.log); \\\n",
    "              echo \"Processing $file\"; \\\n",
    "              awk -v var=\"$file\" \\'{print $0, \"\\t\", substr(var, 1, 8)}\\' $file >> all_search_log; \\\n",
    "              rm $file; \\\n",
    "          done').read().splitlines()"
   ]
  },
  {
   "cell_type": "markdown",
   "metadata": {},
   "source": [
    "## 3 Clean & Downsample"
   ]
  },
  {
   "cell_type": "markdown",
   "metadata": {},
   "source": [
    "### 3.1 Count users"
   ]
  },
  {
   "cell_type": "code",
   "execution_count": 26,
   "metadata": {},
   "outputs": [
    {
     "data": {
      "text/plain": [
       "0"
      ]
     },
     "execution_count": 26,
     "metadata": {},
     "output_type": "execute_result"
    }
   ],
   "source": [
    "# count unique user id\n",
    "os.chdir(\"../../src\")\n",
    "os.system('export LC_CTYPE=C; \\\n",
    "           export LANG=C; \\\n",
    "           cut -f 1 ../data/play/all_play_log | sort | uniq -c | sed \\'s/^ *//g\\' > ../data/uid_count.csv')"
   ]
  },
  {
   "cell_type": "code",
   "execution_count": 2,
   "metadata": {},
   "outputs": [],
   "source": [
    "df = pd.read_csv('../data/uid_count.csv', sep = '\\s+', names = ['count', 'uid'])  "
   ]
  },
  {
   "cell_type": "code",
   "execution_count": 3,
   "metadata": {},
   "outputs": [
    {
     "data": {
      "text/html": [
       "<div>\n",
       "<style scoped>\n",
       "    .dataframe tbody tr th:only-of-type {\n",
       "        vertical-align: middle;\n",
       "    }\n",
       "\n",
       "    .dataframe tbody tr th {\n",
       "        vertical-align: top;\n",
       "    }\n",
       "\n",
       "    .dataframe thead th {\n",
       "        text-align: right;\n",
       "    }\n",
       "</style>\n",
       "<table border=\"1\" class=\"dataframe\">\n",
       "  <thead>\n",
       "    <tr style=\"text-align: right;\">\n",
       "      <th></th>\n",
       "      <th>count</th>\n",
       "      <th>uid</th>\n",
       "    </tr>\n",
       "  </thead>\n",
       "  <tbody>\n",
       "    <tr>\n",
       "      <th>0</th>\n",
       "      <td>2</td>\n",
       "      <td>NaN</td>\n",
       "    </tr>\n",
       "    <tr>\n",
       "      <th>1</th>\n",
       "      <td>1167848</td>\n",
       "      <td>0.0</td>\n",
       "    </tr>\n",
       "    <tr>\n",
       "      <th>2</th>\n",
       "      <td>2</td>\n",
       "      <td>100002491.0</td>\n",
       "    </tr>\n",
       "    <tr>\n",
       "      <th>3</th>\n",
       "      <td>56</td>\n",
       "      <td>100052111.0</td>\n",
       "    </tr>\n",
       "    <tr>\n",
       "      <th>4</th>\n",
       "      <td>9</td>\n",
       "      <td>100071797.0</td>\n",
       "    </tr>\n",
       "  </tbody>\n",
       "</table>\n",
       "</div>"
      ],
      "text/plain": [
       "     count          uid\n",
       "0        2          NaN\n",
       "1  1167848          0.0\n",
       "2        2  100002491.0\n",
       "3       56  100052111.0\n",
       "4        9  100071797.0"
      ]
     },
     "execution_count": 3,
     "metadata": {},
     "output_type": "execute_result"
    }
   ],
   "source": [
    "df.head()"
   ]
  },
  {
   "cell_type": "code",
   "execution_count": 28,
   "metadata": {},
   "outputs": [
    {
     "data": {
      "text/html": [
       "<div>\n",
       "<style scoped>\n",
       "    .dataframe tbody tr th:only-of-type {\n",
       "        vertical-align: middle;\n",
       "    }\n",
       "\n",
       "    .dataframe tbody tr th {\n",
       "        vertical-align: top;\n",
       "    }\n",
       "\n",
       "    .dataframe thead th {\n",
       "        text-align: right;\n",
       "    }\n",
       "</style>\n",
       "<table border=\"1\" class=\"dataframe\">\n",
       "  <thead>\n",
       "    <tr style=\"text-align: right;\">\n",
       "      <th></th>\n",
       "      <th>count</th>\n",
       "      <th>uid</th>\n",
       "    </tr>\n",
       "  </thead>\n",
       "  <tbody>\n",
       "    <tr>\n",
       "      <th>count</th>\n",
       "      <td>5.947350e+05</td>\n",
       "      <td>5.947340e+05</td>\n",
       "    </tr>\n",
       "    <tr>\n",
       "      <th>mean</th>\n",
       "      <td>2.460525e+02</td>\n",
       "      <td>1.673628e+08</td>\n",
       "    </tr>\n",
       "    <tr>\n",
       "      <th>std</th>\n",
       "      <td>1.526662e+04</td>\n",
       "      <td>1.047142e+07</td>\n",
       "    </tr>\n",
       "    <tr>\n",
       "      <th>min</th>\n",
       "      <td>1.000000e+00</td>\n",
       "      <td>0.000000e+00</td>\n",
       "    </tr>\n",
       "    <tr>\n",
       "      <th>25%</th>\n",
       "      <td>9.000000e+00</td>\n",
       "      <td>1.680262e+08</td>\n",
       "    </tr>\n",
       "    <tr>\n",
       "      <th>50%</th>\n",
       "      <td>4.000000e+01</td>\n",
       "      <td>1.684782e+08</td>\n",
       "    </tr>\n",
       "    <tr>\n",
       "      <th>75%</th>\n",
       "      <td>1.740000e+02</td>\n",
       "      <td>1.687685e+08</td>\n",
       "    </tr>\n",
       "    <tr>\n",
       "      <th>max</th>\n",
       "      <td>7.501794e+06</td>\n",
       "      <td>1.692623e+08</td>\n",
       "    </tr>\n",
       "  </tbody>\n",
       "</table>\n",
       "</div>"
      ],
      "text/plain": [
       "              count           uid\n",
       "count  5.947350e+05  5.947340e+05\n",
       "mean   2.460525e+02  1.673628e+08\n",
       "std    1.526662e+04  1.047142e+07\n",
       "min    1.000000e+00  0.000000e+00\n",
       "25%    9.000000e+00  1.680262e+08\n",
       "50%    4.000000e+01  1.684782e+08\n",
       "75%    1.740000e+02  1.687685e+08\n",
       "max    7.501794e+06  1.692623e+08"
      ]
     },
     "execution_count": 28,
     "metadata": {},
     "output_type": "execute_result"
    }
   ],
   "source": [
    "df.describe()"
   ]
  },
  {
   "cell_type": "markdown",
   "metadata": {},
   "source": [
    "### 3.2 Remove bots"
   ]
  },
  {
   "cell_type": "code",
   "execution_count": 5,
   "metadata": {},
   "outputs": [
    {
     "data": {
      "image/png": "[encoded data removed]",
      "text/plain": [
       "<Figure size 432x288 with 1 Axes>"
      ]
     },
     "metadata": {},
     "output_type": "display_data"
    }
   ],
   "source": [
    "np.log10(df['count']).plot.hist(bins = np.arange(0, 5, 0.2))\n",
    "plt.xlabel(\"Log10(User # plays)\")\n",
    "plt.show()"
   ]
  },
  {
   "cell_type": "code",
   "execution_count": 4,
   "metadata": {},
   "outputs": [
    {
     "name": "stdout",
     "output_type": "stream",
     "text": [
      "total number of users: 594735\n",
      "total number of users after bot removed: 594196\n"
     ]
    }
   ],
   "source": [
    "# define and remove bots (the number of listening songs of user is more than 10*60/5*45=5400)\n",
    "# 10 - hours of listening to songs everyday; 5 - average song duration; 45 - total days in the dataset                     \n",
    "print(\"total number of users:\", len(df['uid']))\n",
    "\n",
    "id_list_bot_removed = np.array(df['uid'][df['count'] < 5400].dropna())\n",
    "print(\"total number of users after bot removed:\", len(id_list_bot_removed))"
   ]
  },
  {
   "cell_type": "markdown",
   "metadata": {},
   "source": [
    "### 3.3 Downsample on uid level"
   ]
  },
  {
   "cell_type": "code",
   "execution_count": 5,
   "metadata": {},
   "outputs": [
    {
     "name": "stdout",
     "output_type": "stream",
     "text": [
      "total number of users after down sample: 59542\n"
     ]
    }
   ],
   "source": [
    "np.random.seed = 0\n",
    "down_sample_ratio = 0.1\n",
    "id_subset = set(id_list_bot_removed[np.random.random(id_list_bot_removed.shape) < down_sample_ratio])\n",
    "# np.random.random is alias for np.random.random_sample; return random floats in [0, 1)"
   ]
  },
  {
   "cell_type": "code",
   "execution_count": null,
   "metadata": {},
   "outputs": [],
   "source": [
    "print(\"total number of users after down sample:\", len(id_subset))"
   ]
  },
  {
   "cell_type": "code",
   "execution_count": 6,
   "metadata": {},
   "outputs": [],
   "source": [
    "# define date conversion function\n",
    "def convert_date(s):\n",
    "    s = str(s).strip()\n",
    "    try:\n",
    "        year = int(s[:4])\n",
    "        month = int(s[4:6])\n",
    "        day = int(s[6:8])\n",
    "        return datetime.date(year, month, day)\n",
    "    except:\n",
    "        return None"
   ]
  },
  {
   "cell_type": "code",
   "execution_count": 23,
   "metadata": {},
   "outputs": [
    {
     "name": "stdout",
     "output_type": "stream",
     "text": [
      "#row processed: 1000000\n",
      "#row processed: 2000000\n",
      "#row processed: 3000000\n",
      "#row processed: 4000000\n",
      "#row processed: 5000000\n",
      "#row processed: 6000000\n",
      "#row processed: 7000000\n",
      "#row processed: 8000000\n",
      "#row processed: 9000000\n",
      "#row processed: 10000000\n",
      "#row processed: 11000000\n",
      "#row processed: 12000000\n",
      "#row processed: 13000000\n",
      "#row processed: 14000000\n",
      "#row processed: 15000000\n",
      "#row processed: 16000000\n",
      "#row processed: 17000000\n",
      "#row processed: 18000000\n",
      "#row processed: 19000000\n",
      "#row processed: 20000000\n",
      "#row processed: 21000000\n",
      "#row processed: 22000000\n",
      "#row processed: 23000000\n",
      "#row processed: 24000000\n",
      "#row processed: 25000000\n",
      "#row processed: 26000000\n",
      "#row processed: 27000000\n",
      "#row processed: 28000000\n",
      "#row processed: 29000000\n",
      "#row processed: 30000000\n",
      "#row processed: 31000000\n",
      "#row processed: 32000000\n",
      "#row processed: 33000000\n",
      "#row processed: 34000000\n",
      "#row processed: 35000000\n",
      "#row processed: 36000000\n",
      "#row processed: 37000000\n",
      "#row processed: 38000000\n",
      "#row processed: 39000000\n",
      "#row processed: 40000000\n",
      "#row processed: 41000000\n",
      "#row processed: 42000000\n",
      "#row processed: 43000000\n",
      "#row processed: 44000000\n",
      "#row processed: 45000000\n",
      "#row processed: 46000000\n",
      "#row processed: 47000000\n",
      "#row processed: 48000000\n",
      "#row processed: 49000000\n",
      "#row processed: 50000000\n",
      "#row processed: 51000000\n",
      "#row processed: 52000000\n",
      "#row processed: 53000000\n",
      "#row processed: 54000000\n",
      "#row processed: 55000000\n",
      "#row processed: 56000000\n",
      "#row processed: 57000000\n",
      "#row processed: 58000000\n",
      "#row processed: 59000000\n",
      "#row processed: 60000000\n",
      "#row processed: 61000000\n",
      "#row processed: 62000000\n",
      "#row processed: 63000000\n",
      "#row processed: 64000000\n",
      "#row processed: 65000000\n",
      "#row processed: 66000000\n",
      "#row processed: 67000000\n",
      "#row processed: 68000000\n",
      "#row processed: 69000000\n",
      "#row processed: 70000000\n",
      "#row processed: 71000000\n",
      "#row processed: 72000000\n",
      "#row processed: 73000000\n",
      "#row processed: 74000000\n",
      "#row processed: 75000000\n",
      "#row processed: 76000000\n",
      "#row processed: 77000000\n",
      "#row processed: 78000000\n",
      "#row processed: 79000000\n",
      "#row processed: 80000000\n",
      "#row processed: 81000000\n",
      "#row processed: 82000000\n",
      "#row processed: 83000000\n",
      "#row processed: 84000000\n",
      "#row processed: 85000000\n",
      "#row processed: 86000000\n",
      "#row processed: 87000000\n",
      "#row processed: 88000000\n",
      "#row processed: 89000000\n",
      "#row processed: 90000000\n",
      "#row processed: 91000000\n",
      "#row processed: 92000000\n",
      "#row processed: 93000000\n",
      "#row processed: 94000000\n",
      "#row processed: 95000000\n",
      "#row processed: 96000000\n",
      "#row processed: 97000000\n",
      "#row processed: 98000000\n",
      "#row processed: 99000000\n",
      "#row processed: 100000000\n",
      "#row processed: 101000000\n",
      "#row processed: 102000000\n",
      "#row processed: 103000000\n",
      "#row processed: 104000000\n",
      "#row processed: 105000000\n",
      "#row processed: 106000000\n",
      "#row processed: 107000000\n",
      "#row processed: 108000000\n",
      "#row processed: 109000000\n",
      "#row processed: 110000000\n",
      "#row processed: 111000000\n",
      "#row processed: 112000000\n",
      "#row processed: 113000000\n",
      "#row processed: 114000000\n",
      "#row processed: 115000000\n",
      "#row processed: 116000000\n",
      "#row processed: 117000000\n",
      "#row processed: 118000000\n",
      "#row processed: 119000000\n",
      "#row processed: 120000000\n",
      "#row processed: 121000000\n",
      "#row processed: 122000000\n",
      "#row processed: 123000000\n",
      "#row processed: 124000000\n",
      "#row processed: 125000000\n",
      "#row processed: 126000000\n",
      "#row processed: 127000000\n",
      "#row processed: 128000000\n",
      "#row processed: 129000000\n",
      "#row processed: 130000000\n",
      "#row processed: 131000000\n",
      "#row processed: 132000000\n",
      "#row processed: 133000000\n",
      "#row processed: 134000000\n",
      "#row processed: 135000000\n",
      "#row processed: 136000000\n",
      "#row processed: 137000000\n",
      "#row processed: 138000000\n",
      "#row processed: 139000000\n",
      "#row processed: 140000000\n",
      "#row processed: 141000000\n",
      "#row processed: 142000000\n",
      "#row processed: 143000000\n",
      "#row processed: 144000000\n",
      "#row processed: 145000000\n",
      "#row processed: 146000000\n"
     ]
    }
   ],
   "source": [
    "# downsample play by uid\n",
    "input_file = '../data/play/all_play_log'\n",
    "output_file = '../data/play_ds.csv'\n",
    "input_field_list = ['uid', 'device', 'song_id', 'song_type', 'song_name', 'singer',\n",
    "                    'play_time', 'song_length', 'paid_flag', 'date']\n",
    "output_field_list = ['uid', 'device', 'song_id', 'date', 'play_time', 'song_length']\n",
    "\n",
    "i = 0\n",
    "with open(input_file, 'r', encoding = 'latin-1') as fin, open(output_file, 'w') as fout:\n",
    "    csvin = csv.DictReader(fin, delimiter = '\\t', fieldnames = input_field_list, quoting = csv.QUOTE_NONE)\n",
    "    csvout = csv.writer(fout, delimiter = ',')\n",
    "    csvout.writerow(output_field_list)  # write header\n",
    "    for row in csvin:\n",
    "        i += 1\n",
    "        if i%1000000 == 0:\n",
    "            print(\"#row processed:\", i)\n",
    "        try:\n",
    "            int(row['uid'])\n",
    "        except:\n",
    "            continue\n",
    "        if int(row['uid']) in id_subset:\n",
    "            row['date'] = convert_date(row['date'])\n",
    "            if row['date'] != None:\n",
    "                csvout.writerow([str(row[key]).strip() for key in output_field_list])"
   ]
  },
  {
   "cell_type": "code",
   "execution_count": 9,
   "metadata": {},
   "outputs": [
    {
     "name": "stdout",
     "output_type": "stream",
     "text": [
      "#row processed: 1000000\n",
      "#row processed: 2000000\n",
      "#row processed: 3000000\n",
      "#row processed: 4000000\n",
      "#row processed: 5000000\n",
      "#row processed: 6000000\n",
      "#row processed: 7000000\n"
     ]
    }
   ],
   "source": [
    "# downsample download by uid\n",
    "input_file = '../data/down/all_down_log'\n",
    "output_file = '../data/down_ds.csv'\n",
    "input_field_list = ['uid', 'device', 'song_id', 'song_name', 'singer', 'paid_flag', 'date']\n",
    "output_field_list = ['uid', 'device', 'song_id', 'date']\n",
    "i = 0\n",
    "with open(input_file, 'r', encoding = 'latin-1') as fin, open(output_file, 'w') as fout:\n",
    "    csvin = csv.DictReader(fin, delimiter = '\\t', fieldnames = input_field_list, quoting = csv.QUOTE_NONE)\n",
    "    csvout = csv.writer(fout, delimiter = ',')\n",
    "    csvout.writerow(output_field_list)\n",
    "    for row in csvin:\n",
    "        i += 1\n",
    "        if i %1000000 == 0:\n",
    "            print('#row processed:', i)\n",
    "        try:\n",
    "            int(row['uid'])\n",
    "        except:\n",
    "            continue\n",
    "        if int(row['uid']) in id_subset:\n",
    "            row['date'] = convert_date(row['date'])\n",
    "            if row['date'] != None:\n",
    "                csvout.writerow([str(row[key]).strip() for key in output_field_list])"
   ]
  },
  {
   "cell_type": "code",
   "execution_count": 21,
   "metadata": {},
   "outputs": [
    {
     "name": "stdout",
     "output_type": "stream",
     "text": [
      "#row procedded: 1000000\n",
      "#row procedded: 2000000\n",
      "#row procedded: 3000000\n",
      "#row procedded: 4000000\n",
      "#row procedded: 5000000\n",
      "#row procedded: 6000000\n",
      "#row procedded: 7000000\n",
      "#row procedded: 8000000\n"
     ]
    }
   ],
   "source": [
    "# downsample search by uid\n",
    "input_file = '../data/search/all_search_log'\n",
    "output_file = '../data/search_ds.csv'\n",
    "input_field_list = ['uid', 'device', 'time_stamp', 'search_query', 'date']\n",
    "output_field_list = ['uid', 'device', 'date']\n",
    "i = 0\n",
    "with open(input_file, 'r', encoding = 'latin-1') as fin, open(output_file, 'w') as fout:\n",
    "    csvin = csv.DictReader(fin, delimiter = '\\t', fieldnames = input_field_list, quoting = csv.QUOTE_NONE)\n",
    "    csvout = csv.writer(fout, delimiter = ',')\n",
    "    csvout.writerow(output_field_list)\n",
    "    for row in csvin:\n",
    "        i += 1\n",
    "        if i%1000000 == 0:\n",
    "            print('#row procedded:', i)\n",
    "        try:\n",
    "            int(row['uid'])\n",
    "        except:\n",
    "            continue\n",
    "        if int(row['uid']) in id_subset:\n",
    "            row['date'] = convert_date(row['date'])\n",
    "            if row['date'] != None:\n",
    "                csvout.writerow([str(row[key]).strip() for key in output_field_list])"
   ]
  },
  {
   "cell_type": "markdown",
   "metadata": {},
   "source": [
    "### 3.4 Create event table"
   ]
  },
  {
   "cell_type": "code",
   "execution_count": 96,
   "metadata": {},
   "outputs": [
    {
     "name": "stdout",
     "output_type": "stream",
     "text": [
      "Processing play ...\n",
      "Processing down ...\n",
      "Processing search ...\n"
     ]
    }
   ],
   "source": [
    "play_file = '../data/play_ds.csv'\n",
    "down_file = '../data/down_ds.csv'\n",
    "search_file = '../data/search_ds.csv'\n",
    "output_file = '../data/event_ds.csv'\n",
    "play_field_list = ['uid', 'device', 'song_id', 'date', 'play_time', 'song_length']\n",
    "down_field_list = ['uid', 'device', 'song_id', 'date']\n",
    "search_field_list = ['uid', 'device', 'date']\n",
    "output_field_list = ['uid', 'event', 'song_id', 'date']\n",
    "with open(play_file, 'r') as f_play, open(down_file, 'r') as f_down, \\\n",
    "open(search_file, 'r') as f_search, open(output_file, 'w') as f_out:\n",
    "    csvplay = csv.DictReader(f_play, delimiter = ',')\n",
    "    csvdown = csv.DictReader(f_down, delimiter = ',')\n",
    "    csvsearch = csv.DictReader(f_search, delimiter = ',')\n",
    "    csvout = csv.writer(f_out, delimiter = ',')\n",
    "    csvout.writerow(output_field_list)\n",
    "    print('Processing play ...')\n",
    "    for row in csvplay:\n",
    "        row['event'] = 'P'\n",
    "        row['date']\n",
    "        csvout.writerow([row[key] for key in output_field_list])\n",
    "    print('Processing down ...')\n",
    "    for row in csvdown:\n",
    "        row['event'] = 'D'\n",
    "        csvout.writerow([row[key] for key in output_field_list])\n",
    "    print('Processing search ...')\n",
    "    for row in csvsearch:\n",
    "        row['event'] = 'S'\n",
    "        csvout.writerow([row.get(key, '') for key in output_field_list])"
   ]
  },
  {
   "cell_type": "markdown",
   "metadata": {},
   "source": [
    "## 4 Exploratory data analysis"
   ]
  },
  {
   "cell_type": "code",
   "execution_count": 6,
   "metadata": {},
   "outputs": [],
   "source": [
    "df = spark.read.csv('../data/event_ds.csv', header = True).cache()"
   ]
  },
  {
   "cell_type": "code",
   "execution_count": 7,
   "metadata": {},
   "outputs": [
    {
     "data": {
      "text/plain": [
       "DataFrame[uid: string, event: string, song_id: string, date: string]"
      ]
     },
     "execution_count": 7,
     "metadata": {},
     "output_type": "execute_result"
    }
   ],
   "source": [
    "df"
   ]
  },
  {
   "cell_type": "code",
   "execution_count": 8,
   "metadata": {},
   "outputs": [
    {
     "name": "stdout",
     "output_type": "stream",
     "text": [
      "+---------+-----+--------+----------+\n",
      "|      uid|event| song_id|      date|\n",
      "+---------+-----+--------+----------+\n",
      "|168549788|    P|  295469|2017-03-30|\n",
      "|168530895|    P|       0|2017-03-30|\n",
      "|168549013|    P| 5256343|2017-03-30|\n",
      "|168551085|    P|23491653|2017-03-30|\n",
      "|168548840|    P|20066194|2017-03-30|\n",
      "+---------+-----+--------+----------+\n",
      "only showing top 5 rows\n",
      "\n"
     ]
    }
   ],
   "source": [
    "df.show(5)"
   ]
  },
  {
   "cell_type": "markdown",
   "metadata": {},
   "source": [
    "### 4.1 Convert datatype"
   ]
  },
  {
   "cell_type": "code",
   "execution_count": 9,
   "metadata": {},
   "outputs": [],
   "source": [
    "# convert the date column from 'string' to 'date' type\n",
    "df = df.withColumn('date', F.col('date').cast('date')) # 'cast()' is the alias of 'astype()'"
   ]
  },
  {
   "cell_type": "code",
   "execution_count": 10,
   "metadata": {},
   "outputs": [
    {
     "data": {
      "text/plain": [
       "DataFrame[uid: string, event: string, song_id: string, date: date]"
      ]
     },
     "execution_count": 10,
     "metadata": {},
     "output_type": "execute_result"
    }
   ],
   "source": [
    "df"
   ]
  },
  {
   "cell_type": "code",
   "execution_count": 11,
   "metadata": {},
   "outputs": [
    {
     "name": "stdout",
     "output_type": "stream",
     "text": [
      "+---------+-----+--------+----------+\n",
      "|      uid|event| song_id|      date|\n",
      "+---------+-----+--------+----------+\n",
      "|168549788|    P|  295469|2017-03-30|\n",
      "|168530895|    P|       0|2017-03-30|\n",
      "|168549013|    P| 5256343|2017-03-30|\n",
      "|168551085|    P|23491653|2017-03-30|\n",
      "|168548840|    P|20066194|2017-03-30|\n",
      "+---------+-----+--------+----------+\n",
      "only showing top 5 rows\n",
      "\n"
     ]
    }
   ],
   "source": [
    "df.show(5)"
   ]
  },
  {
   "cell_type": "markdown",
   "metadata": {},
   "source": [
    "### 4.2 Basic statistics"
   ]
  },
  {
   "cell_type": "code",
   "execution_count": 12,
   "metadata": {},
   "outputs": [
    {
     "name": "stdout",
     "output_type": "stream",
     "text": [
      "Total number of rows: 12337702\n"
     ]
    }
   ],
   "source": [
    "# count rows\n",
    "print('Total number of rows:', df.count())"
   ]
  },
  {
   "cell_type": "code",
   "execution_count": 13,
   "metadata": {},
   "outputs": [
    {
     "name": "stdout",
     "output_type": "stream",
     "text": [
      "Total number of users: 59541\n"
     ]
    }
   ],
   "source": [
    "# count users\n",
    "print('Total number of users:', df.select('uid').distinct().count())"
   ]
  },
  {
   "cell_type": "code",
   "execution_count": 14,
   "metadata": {},
   "outputs": [
    {
     "name": "stdout",
     "output_type": "stream",
     "text": [
      "+-----+--------+\n",
      "|event|   count|\n",
      "+-----+--------+\n",
      "|    D|  599196|\n",
      "|    S|  760960|\n",
      "|    P|10977546|\n",
      "+-----+--------+\n",
      "\n"
     ]
    }
   ],
   "source": [
    "# count event separately\n",
    "df.groupBy('event').count().show()"
   ]
  },
  {
   "cell_type": "code",
   "execution_count": 51,
   "metadata": {},
   "outputs": [
    {
     "name": "stdout",
     "output_type": "stream",
     "text": [
      "+-----+---------+-----+\n",
      "|event|  max_uid|count|\n",
      "+-----+---------+-----+\n",
      "|    D|168625124| 5987|\n",
      "|    D|167979374| 5850|\n",
      "|    D|168682355| 2850|\n",
      "|    D|168580994| 2719|\n",
      "|    D|167806728| 2433|\n",
      "+-----+---------+-----+\n",
      "\n",
      "+-----+---------+-----+\n",
      "|event|  max_uid|count|\n",
      "+-----+---------+-----+\n",
      "|    P|168342661| 5393|\n",
      "|    P|167827154| 5359|\n",
      "|    P|167851784| 5288|\n",
      "|    P|167968136| 5204|\n",
      "|    P|167678765| 5164|\n",
      "+-----+---------+-----+\n",
      "\n",
      "+-----+---------+-----+\n",
      "|event|  max_uid|count|\n",
      "+-----+---------+-----+\n",
      "|    S| 56472053| 1035|\n",
      "|    S|168276029| 1019|\n",
      "|    S|168455055|  945|\n",
      "|    S|165789425|  838|\n",
      "|    S|168580994|  770|\n",
      "+-----+---------+-----+\n",
      "\n",
      "+---------+-----+-----+-----+-----+-----+-----+\n",
      "|      uid|event|count|event|count|event|count|\n",
      "+---------+-----+-----+-----+-----+-----+-----+\n",
      "|167968136| null| null|    P| 5204| null| null|\n",
      "|168276029| null| null| null| null|    S| 1019|\n",
      "|168455055| null| null| null| null|    S|  945|\n",
      "|167827154| null| null|    P| 5359| null| null|\n",
      "|168342661| null| null|    P| 5393| null| null|\n",
      "|167851784| null| null|    P| 5288| null| null|\n",
      "|167979374|    D| 5850| null| null| null| null|\n",
      "|168625124|    D| 5987| null| null| null| null|\n",
      "|165789425| null| null| null| null|    S|  838|\n",
      "|167806728|    D| 2433| null| null| null| null|\n",
      "|168682355|    D| 2850| null| null| null| null|\n",
      "| 56472053| null| null| null| null|    S| 1035|\n",
      "|168580994|    D| 2719| null| null|    S|  770|\n",
      "|167678765| null| null|    P| 5164| null| null|\n",
      "+---------+-----+-----+-----+-----+-----+-----+\n",
      "\n"
     ]
    }
   ],
   "source": [
    "# find the most active user in event separately (only consider the event count)\n",
    "\n",
    "# download\n",
    "D_top5 = df.filter(F.col('event') == 'D').groupBy('event', 'uid').count() \\\n",
    "                                         .orderBy(-F.col('count')).limit(5) \\\n",
    "                                         .withColumnRenamed('uid', 'max_uid')\n",
    "D_top5.show()\n",
    "\n",
    "# play\n",
    "P_top5 = df.filter(F.col('event') == 'P').groupBy('event', 'uid').count() \\\n",
    "                                         .orderBy(-F.col('count')).limit(5) \\\n",
    "                                         .withColumnRenamed('uid', 'max_uid')\n",
    "P_top5.show()\n",
    "\n",
    "# search\n",
    "S_top5 = df.filter(F.col('event') == 'S').groupBy('event', 'uid').count() \\\n",
    "                                         .orderBy(-F.col('count')).limit(5) \\\n",
    "                                         .withColumnRenamed('uid', 'max_uid')\n",
    "S_top5.show()\n",
    "\n",
    "# find overlap\n",
    "D_top5.join(P_top5, on = 'max_uid', how = 'outer').join(S_top5, on = 'max_uid', how = 'outer') \\\n",
    "      .withColumnRenamed('max_uid', 'uid').show()\n",
    "# the user with uid of 168580994 occurs in both download top5 and search download top5"
   ]
  },
  {
   "cell_type": "markdown",
   "metadata": {},
   "source": [
    "### 4.3 Data visualization"
   ]
  },
  {
   "cell_type": "code",
   "execution_count": 69,
   "metadata": {},
   "outputs": [
    {
     "data": {
      "text/html": [
       "<div>\n",
       "<style scoped>\n",
       "    .dataframe tbody tr th:only-of-type {\n",
       "        vertical-align: middle;\n",
       "    }\n",
       "\n",
       "    .dataframe tbody tr th {\n",
       "        vertical-align: top;\n",
       "    }\n",
       "\n",
       "    .dataframe thead th {\n",
       "        text-align: right;\n",
       "    }\n",
       "</style>\n",
       "<table border=\"1\" class=\"dataframe\">\n",
       "  <thead>\n",
       "    <tr style=\"text-align: right;\">\n",
       "      <th></th>\n",
       "      <th>date</th>\n",
       "      <th>count</th>\n",
       "    </tr>\n",
       "  </thead>\n",
       "  <tbody>\n",
       "    <tr>\n",
       "      <th>0</th>\n",
       "      <td>2017-03-30</td>\n",
       "      <td>690722</td>\n",
       "    </tr>\n",
       "    <tr>\n",
       "      <th>1</th>\n",
       "      <td>2017-03-31</td>\n",
       "      <td>684774</td>\n",
       "    </tr>\n",
       "    <tr>\n",
       "      <th>2</th>\n",
       "      <td>2017-04-01</td>\n",
       "      <td>532301</td>\n",
       "    </tr>\n",
       "    <tr>\n",
       "      <th>3</th>\n",
       "      <td>2017-04-02</td>\n",
       "      <td>482583</td>\n",
       "    </tr>\n",
       "    <tr>\n",
       "      <th>4</th>\n",
       "      <td>2017-04-03</td>\n",
       "      <td>301279</td>\n",
       "    </tr>\n",
       "  </tbody>\n",
       "</table>\n",
       "</div>"
      ],
      "text/plain": [
       "         date   count\n",
       "0  2017-03-30  690722\n",
       "1  2017-03-31  684774\n",
       "2  2017-04-01  532301\n",
       "3  2017-04-02  482583\n",
       "4  2017-04-03  301279"
      ]
     },
     "execution_count": 69,
     "metadata": {},
     "output_type": "execute_result"
    }
   ],
   "source": [
    "# event level\n",
    "event_date_count = df.groupBy('date').count().orderBy('date').toPandas()\n",
    "event_date_count.head()"
   ]
  },
  {
   "cell_type": "code",
   "execution_count": 75,
   "metadata": {},
   "outputs": [],
   "source": [
    "def plot_bar(data, event):\n",
    "    color_dict = dict({'Event': 'red', 'Play': 'deepskyblue',\n",
    "                       'Download': 'orangered', 'Search': 'gold'})\n",
    "    data['date'] = data['date'].apply(str)\n",
    "    plt.figure(figsize = (12, 4))\n",
    "    plt.bar(data['date'], data['count'], color = color_dict[event])\n",
    "    plt.xticks(rotation = 'vertical')\n",
    "    plt.xlabel('Date', fontsize = 15)\n",
    "    plt.ylabel(event + ' count', fontsize = 15)\n",
    "    plt.show()"
   ]
  },
  {
   "cell_type": "code",
   "execution_count": 76,
   "metadata": {},
   "outputs": [
    {
     "data": {
      "image/png": "[encoded data removed]",
      "text/plain": [
       "<Figure size 864x288 with 1 Axes>"
      ]
     },
     "metadata": {},
     "output_type": "display_data"
    }
   ],
   "source": [
    "plot_bar(event_date_count, 'Event')"
   ]
  },
  {
   "cell_type": "code",
   "execution_count": 54,
   "metadata": {},
   "outputs": [
    {
     "data": {
      "text/html": [
       "<div>\n",
       "<style scoped>\n",
       "    .dataframe tbody tr th:only-of-type {\n",
       "        vertical-align: middle;\n",
       "    }\n",
       "\n",
       "    .dataframe tbody tr th {\n",
       "        vertical-align: top;\n",
       "    }\n",
       "\n",
       "    .dataframe thead th {\n",
       "        text-align: right;\n",
       "    }\n",
       "</style>\n",
       "<table border=\"1\" class=\"dataframe\">\n",
       "  <thead>\n",
       "    <tr style=\"text-align: right;\">\n",
       "      <th></th>\n",
       "      <th>event</th>\n",
       "      <th>date</th>\n",
       "      <th>count</th>\n",
       "    </tr>\n",
       "  </thead>\n",
       "  <tbody>\n",
       "    <tr>\n",
       "      <th>0</th>\n",
       "      <td>P</td>\n",
       "      <td>2017-03-30</td>\n",
       "      <td>443106</td>\n",
       "    </tr>\n",
       "    <tr>\n",
       "      <th>1</th>\n",
       "      <td>P</td>\n",
       "      <td>2017-03-31</td>\n",
       "      <td>600384</td>\n",
       "    </tr>\n",
       "    <tr>\n",
       "      <th>2</th>\n",
       "      <td>P</td>\n",
       "      <td>2017-04-01</td>\n",
       "      <td>474267</td>\n",
       "    </tr>\n",
       "    <tr>\n",
       "      <th>3</th>\n",
       "      <td>P</td>\n",
       "      <td>2017-04-02</td>\n",
       "      <td>429614</td>\n",
       "    </tr>\n",
       "    <tr>\n",
       "      <th>4</th>\n",
       "      <td>P</td>\n",
       "      <td>2017-04-03</td>\n",
       "      <td>252691</td>\n",
       "    </tr>\n",
       "  </tbody>\n",
       "</table>\n",
       "</div>"
      ],
      "text/plain": [
       "  event        date   count\n",
       "0     P  2017-03-30  443106\n",
       "1     P  2017-03-31  600384\n",
       "2     P  2017-04-01  474267\n",
       "3     P  2017-04-02  429614\n",
       "4     P  2017-04-03  252691"
      ]
     },
     "execution_count": 54,
     "metadata": {},
     "output_type": "execute_result"
    }
   ],
   "source": [
    "# play level\n",
    "P_date_count = df.filter(F.col('event') == 'P').groupBy('event', 'date').count().orderBy('date').toPandas()\n",
    "P_date_count.head()"
   ]
  },
  {
   "cell_type": "code",
   "execution_count": 77,
   "metadata": {},
   "outputs": [
    {
     "data": {
      "image/png": "[encoded data removed]",
      "text/plain": [
       "<Figure size 864x288 with 1 Axes>"
      ]
     },
     "metadata": {},
     "output_type": "display_data"
    }
   ],
   "source": [
    "plot_bar(P_date_count, 'Play')"
   ]
  },
  {
   "cell_type": "code",
   "execution_count": 78,
   "metadata": {},
   "outputs": [
    {
     "data": {
      "text/html": [
       "<div>\n",
       "<style scoped>\n",
       "    .dataframe tbody tr th:only-of-type {\n",
       "        vertical-align: middle;\n",
       "    }\n",
       "\n",
       "    .dataframe tbody tr th {\n",
       "        vertical-align: top;\n",
       "    }\n",
       "\n",
       "    .dataframe thead th {\n",
       "        text-align: right;\n",
       "    }\n",
       "</style>\n",
       "<table border=\"1\" class=\"dataframe\">\n",
       "  <thead>\n",
       "    <tr style=\"text-align: right;\">\n",
       "      <th></th>\n",
       "      <th>event</th>\n",
       "      <th>date</th>\n",
       "      <th>count</th>\n",
       "    </tr>\n",
       "  </thead>\n",
       "  <tbody>\n",
       "    <tr>\n",
       "      <th>0</th>\n",
       "      <td>D</td>\n",
       "      <td>2017-03-30</td>\n",
       "      <td>134574</td>\n",
       "    </tr>\n",
       "    <tr>\n",
       "      <th>1</th>\n",
       "      <td>D</td>\n",
       "      <td>2017-03-31</td>\n",
       "      <td>35349</td>\n",
       "    </tr>\n",
       "    <tr>\n",
       "      <th>2</th>\n",
       "      <td>D</td>\n",
       "      <td>2017-04-01</td>\n",
       "      <td>27221</td>\n",
       "    </tr>\n",
       "    <tr>\n",
       "      <th>3</th>\n",
       "      <td>D</td>\n",
       "      <td>2017-04-02</td>\n",
       "      <td>24060</td>\n",
       "    </tr>\n",
       "    <tr>\n",
       "      <th>4</th>\n",
       "      <td>D</td>\n",
       "      <td>2017-04-03</td>\n",
       "      <td>21739</td>\n",
       "    </tr>\n",
       "  </tbody>\n",
       "</table>\n",
       "</div>"
      ],
      "text/plain": [
       "  event        date   count\n",
       "0     D  2017-03-30  134574\n",
       "1     D  2017-03-31   35349\n",
       "2     D  2017-04-01   27221\n",
       "3     D  2017-04-02   24060\n",
       "4     D  2017-04-03   21739"
      ]
     },
     "execution_count": 78,
     "metadata": {},
     "output_type": "execute_result"
    }
   ],
   "source": [
    "# download level\n",
    "D_date_count = df.filter(F.col('event') == 'D').groupBy('event', 'date').count().orderBy('date').toPandas()\n",
    "D_date_count.head()"
   ]
  },
  {
   "cell_type": "code",
   "execution_count": 79,
   "metadata": {},
   "outputs": [
    {
     "data": {
      "image/png": "[encoded data removed]",
      "text/plain": [
       "<Figure size 864x288 with 1 Axes>"
      ]
     },
     "metadata": {},
     "output_type": "display_data"
    }
   ],
   "source": [
    "plot_bar(D_date_count, 'Download')"
   ]
  },
  {
   "cell_type": "code",
   "execution_count": 81,
   "metadata": {},
   "outputs": [
    {
     "data": {
      "text/html": [
       "<div>\n",
       "<style scoped>\n",
       "    .dataframe tbody tr th:only-of-type {\n",
       "        vertical-align: middle;\n",
       "    }\n",
       "\n",
       "    .dataframe tbody tr th {\n",
       "        vertical-align: top;\n",
       "    }\n",
       "\n",
       "    .dataframe thead th {\n",
       "        text-align: right;\n",
       "    }\n",
       "</style>\n",
       "<table border=\"1\" class=\"dataframe\">\n",
       "  <thead>\n",
       "    <tr style=\"text-align: right;\">\n",
       "      <th></th>\n",
       "      <th>event</th>\n",
       "      <th>date</th>\n",
       "      <th>count</th>\n",
       "    </tr>\n",
       "  </thead>\n",
       "  <tbody>\n",
       "    <tr>\n",
       "      <th>0</th>\n",
       "      <td>S</td>\n",
       "      <td>2017-03-30</td>\n",
       "      <td>113042</td>\n",
       "    </tr>\n",
       "    <tr>\n",
       "      <th>1</th>\n",
       "      <td>S</td>\n",
       "      <td>2017-03-31</td>\n",
       "      <td>49041</td>\n",
       "    </tr>\n",
       "    <tr>\n",
       "      <th>2</th>\n",
       "      <td>S</td>\n",
       "      <td>2017-04-01</td>\n",
       "      <td>30813</td>\n",
       "    </tr>\n",
       "    <tr>\n",
       "      <th>3</th>\n",
       "      <td>S</td>\n",
       "      <td>2017-04-02</td>\n",
       "      <td>28909</td>\n",
       "    </tr>\n",
       "    <tr>\n",
       "      <th>4</th>\n",
       "      <td>S</td>\n",
       "      <td>2017-04-03</td>\n",
       "      <td>26849</td>\n",
       "    </tr>\n",
       "  </tbody>\n",
       "</table>\n",
       "</div>"
      ],
      "text/plain": [
       "  event        date   count\n",
       "0     S  2017-03-30  113042\n",
       "1     S  2017-03-31   49041\n",
       "2     S  2017-04-01   30813\n",
       "3     S  2017-04-02   28909\n",
       "4     S  2017-04-03   26849"
      ]
     },
     "execution_count": 81,
     "metadata": {},
     "output_type": "execute_result"
    }
   ],
   "source": [
    "# search level\n",
    "S_date_count = df.filter(F.col('event') == 'S').groupBy('event', 'date').count().orderBy('date').toPandas()\n",
    "S_date_count.head()"
   ]
  },
  {
   "cell_type": "code",
   "execution_count": 82,
   "metadata": {},
   "outputs": [
    {
     "data": {
      "image/png": "[encoded data removed]",
      "text/plain": [
       "<Figure size 864x288 with 1 Axes>"
      ]
     },
     "metadata": {},
     "output_type": "display_data"
    }
   ],
   "source": [
    "plot_bar(S_date_count, 'Search')"
   ]
  },
  {
   "cell_type": "markdown",
   "metadata": {},
   "source": [
    "No matter from which perspectives, including total event, play, download, or search, frequency of user behavior is decreasing day by day. It may indicate that churn always exists."
   ]
  },
  {
   "cell_type": "markdown",
   "metadata": {},
   "source": [
    "## 4 Label definition"
   ]
  },
  {
   "cell_type": "code",
   "execution_count": 5,
   "metadata": {},
   "outputs": [
    {
     "name": "stdout",
     "output_type": "stream",
     "text": [
      "label window: 2017-04-29 ~ 2017-05-12 days: 14\n"
     ]
    }
   ],
   "source": [
    "label_window_size = 14\n",
    "label_window_end_date = parser.parse('2017-05-12').date()\n",
    "label_window_start_date = label_window_end_date - datetime.timedelta(label_window_size - 1)\n",
    "print('label window:', label_window_start_date, '~', label_window_end_date, 'days:', label_window_size)"
   ]
  },
  {
   "cell_type": "code",
   "execution_count": 6,
   "metadata": {},
   "outputs": [
    {
     "name": "stdout",
     "output_type": "stream",
     "text": [
      "feature window: 2017-03-30 ~ 2017-04-28 days: 30\n"
     ]
    }
   ],
   "source": [
    "feature_window_size = 30\n",
    "feature_window_end_date = label_window_start_date - datetime.timedelta(1)\n",
    "feature_window_start_date = feature_window_end_date - datetime.timedelta(feature_window_size - 1)\n",
    "print('feature window:', feature_window_start_date, '~', feature_window_end_date, 'days:', feature_window_size)"
   ]
  },
  {
   "cell_type": "code",
   "execution_count": 7,
   "metadata": {},
   "outputs": [],
   "source": [
    "df_model_uid = df.filter((F.col('date') >= feature_window_start_date) &\n",
    "                         (F.col('date') <= feature_window_end_date)).select('uid').distinct()\n",
    "df_active_uid_in_label_window = df.filter((F.col('date') >= label_window_start_date) &\n",
    "                                          (F.col('date') <= label_window_end_date)).select('uid').distinct() \\\n",
    "                                                                                   .withColumn('label', F.lit(0))"
   ]
  },
  {
   "cell_type": "code",
   "execution_count": 8,
   "metadata": {},
   "outputs": [],
   "source": [
    "# prepare label data (churn label=1, active label=0)\n",
    "df_label = df_model_uid.join(df_active_uid_in_label_window, on = ['uid'], how = 'left')\n",
    "df_label = df_label.fillna(1)"
   ]
  },
  {
   "cell_type": "code",
   "execution_count": 9,
   "metadata": {},
   "outputs": [
    {
     "name": "stdout",
     "output_type": "stream",
     "text": [
      "+-----+-----+\n",
      "|label|count|\n",
      "+-----+-----+\n",
      "|    1|36010|\n",
      "|    0|22212|\n",
      "+-----+-----+\n",
      "\n"
     ]
    }
   ],
   "source": [
    "# count churn and active users\n",
    "df_label.groupBy('label').count().show()"
   ]
  },
  {
   "cell_type": "markdown",
   "metadata": {},
   "source": [
    "## 5 Feature engineering"
   ]
  },
  {
   "cell_type": "code",
   "execution_count": 10,
   "metadata": {},
   "outputs": [],
   "source": [
    "# event_data in feature window\n",
    "df_feature_window = df.filter((F.col('date') >= feature_window_start_date) &\n",
    "                              (F.col('date') <= feature_window_end_date))"
   ]
  },
  {
   "cell_type": "markdown",
   "metadata": {},
   "source": [
    "### 5.1 Frequency"
   ]
  },
  {
   "cell_type": "code",
   "execution_count": 11,
   "metadata": {},
   "outputs": [],
   "source": [
    "# define a function to generate frequency features for a list of time windows\n",
    "# using when().otherwise() and list comprehension trick!\n",
    "def frequency_feature_generation_time_windows(df, event, time_window_list, snapshot_date):\n",
    "    \"\"\"\n",
    "    generate frequency features for one event type and a list of time windows\n",
    "    \"\"\"\n",
    "    df_feature = df.filter(F.col('event') == event).groupBy('uid') \\\n",
    "                   .agg(*[F.sum(F.when((F.col('date') >= snapshot_date - datetime.timedelta(time_window - 1)) &\n",
    "                                       (F.col('date') <= snapshot_date), 1).otherwise(0)) \\\n",
    "                                                                           .alias('freq_' + event + \\\n",
    "                                                                                  '_last_' + str(time_window)) \\\n",
    "                                for time_window in time_window_list])  # *[] opens list and make them comma separated\n",
    "                   \n",
    "    return df_feature"
   ]
  },
  {
   "cell_type": "code",
   "execution_count": 12,
   "metadata": {},
   "outputs": [],
   "source": [
    "# generate one feature\n",
    "event = 'S'\n",
    "time_window_list = [1, 3, 7, 14, 30]\n",
    "snapshot_date = feature_window_end_date\n",
    "df_feature = frequency_feature_generation_time_windows(df_feature_window, event, time_window_list, snapshot_date)"
   ]
  },
  {
   "cell_type": "code",
   "execution_count": 22,
   "metadata": {},
   "outputs": [
    {
     "name": "stdout",
     "output_type": "stream",
     "text": [
      "+---------+-------------+-------------+-------------+--------------+--------------+\n",
      "|      uid|freq_S_last_1|freq_S_last_3|freq_S_last_7|freq_S_last_14|freq_S_last_30|\n",
      "+---------+-------------+-------------+-------------+--------------+--------------+\n",
      "|167899951|            0|            0|            1|             4|            10|\n",
      "|168028443|            2|            5|           13|            13|            17|\n",
      "|167650198|            0|            0|            0|             2|            17|\n",
      "|167743862|            0|            0|            0|             0|             1|\n",
      "|168044401|            0|            0|            0|             0|            10|\n",
      "+---------+-------------+-------------+-------------+--------------+--------------+\n",
      "only showing top 5 rows\n",
      "\n"
     ]
    }
   ],
   "source": [
    "df_feature.show(5)"
   ]
  },
  {
   "cell_type": "code",
   "execution_count": 13,
   "metadata": {},
   "outputs": [],
   "source": [
    "# generate frequency features for all event_list, time_window_list\n",
    "event_list = ['P', 'D', 'S']\n",
    "time_window_list = [1, 3, 7, 14, 30]\n",
    "df_feature_list = []\n",
    "for event in event_list:\n",
    "    df_feature_list.append(frequency_feature_generation_time_windows(df_feature_window, event,\n",
    "                                                                     time_window_list, snapshot_date))"
   ]
  },
  {
   "cell_type": "code",
   "execution_count": 24,
   "metadata": {},
   "outputs": [
    {
     "data": {
      "text/plain": [
       "[DataFrame[uid: string, freq_P_last_1: bigint, freq_P_last_3: bigint, freq_P_last_7: bigint, freq_P_last_14: bigint, freq_P_last_30: bigint],\n",
       " DataFrame[uid: string, freq_D_last_1: bigint, freq_D_last_3: bigint, freq_D_last_7: bigint, freq_D_last_14: bigint, freq_D_last_30: bigint],\n",
       " DataFrame[uid: string, freq_S_last_1: bigint, freq_S_last_3: bigint, freq_S_last_7: bigint, freq_S_last_14: bigint, freq_S_last_30: bigint]]"
      ]
     },
     "execution_count": 24,
     "metadata": {},
     "output_type": "execute_result"
    }
   ],
   "source": [
    "df_feature_list"
   ]
  },
  {
   "cell_type": "markdown",
   "metadata": {},
   "source": [
    "### 5.2 Recency"
   ]
  },
  {
   "cell_type": "code",
   "execution_count": 14,
   "metadata": {},
   "outputs": [],
   "source": [
    "event_list = ['P', 'D', 'S']\n",
    "df_recency = []\n",
    "for event in event_list:\n",
    "    df_recency.append(df_feature_window.filter(F.col('event') == event).groupBy('uid')\\\n",
    "                     .agg(F.max(F.col('date')).alias('last_' + event + '_date'))\\\n",
    "                     .select('uid', (F.datediff(F.lit('2017-04-28'), F.col('last_' + event + '_date')))\\\n",
    "                                    .alias('days_from_last_' + event)))"
   ]
  },
  {
   "cell_type": "code",
   "execution_count": 244,
   "metadata": {},
   "outputs": [
    {
     "data": {
      "text/plain": [
       "[DataFrame[uid: string, days_from_last_P: int],\n",
       " DataFrame[uid: string, days_from_last_D: int],\n",
       " DataFrame[uid: string, days_from_last_S: int]]"
      ]
     },
     "execution_count": 244,
     "metadata": {},
     "output_type": "execute_result"
    }
   ],
   "source": [
    "df_recency"
   ]
  },
  {
   "cell_type": "markdown",
   "metadata": {},
   "source": [
    "### 5.3 Profile"
   ]
  },
  {
   "cell_type": "code",
   "execution_count": 15,
   "metadata": {},
   "outputs": [],
   "source": [
    "df_play = spark.read.csv('../data/play_ds.csv', header = True)"
   ]
  },
  {
   "cell_type": "code",
   "execution_count": 30,
   "metadata": {},
   "outputs": [
    {
     "name": "stdout",
     "output_type": "stream",
     "text": [
      "+---------+------+--------+----------+---------+-----------+\n",
      "|      uid|device| song_id|      date|play_time|song_length|\n",
      "+---------+------+--------+----------+---------+-----------+\n",
      "|168549788|    ip|  295469|2017-03-30|       16|        242|\n",
      "|168530895|    ar|       0|2017-03-30|      264|        265|\n",
      "|168549013|    ip| 5256343|2017-03-30|      130|        265|\n",
      "|168551085|    ar|23491653|2017-03-30|      312|        312|\n",
      "|168548840|    ip|20066194|2017-03-30|       40|        223|\n",
      "+---------+------+--------+----------+---------+-----------+\n",
      "only showing top 5 rows\n",
      "\n"
     ]
    }
   ],
   "source": [
    "df_play.show(5)"
   ]
  },
  {
   "cell_type": "code",
   "execution_count": 16,
   "metadata": {},
   "outputs": [],
   "source": [
    "df_play_feature_window = df_play.filter((F.col('date') >= feature_window_start_date) &\n",
    "                                        (F.col('date') <= feature_window_end_date))\n",
    "df_profile_tmp = df_play_feature_window.select('uid', 'device').distinct()"
   ]
  },
  {
   "cell_type": "code",
   "execution_count": 32,
   "metadata": {},
   "outputs": [
    {
     "name": "stdout",
     "output_type": "stream",
     "text": [
      "+------+-----+\n",
      "|device|count|\n",
      "+------+-----+\n",
      "|    mc|    1|\n",
      "|    ar|50827|\n",
      "|    wp|    2|\n",
      "|    ip| 7268|\n",
      "+------+-----+\n",
      "\n"
     ]
    }
   ],
   "source": [
    "df_profile_tmp.groupBy('device').count().show()"
   ]
  },
  {
   "cell_type": "code",
   "execution_count": 33,
   "metadata": {},
   "outputs": [
    {
     "data": {
      "text/plain": [
       "58098"
      ]
     },
     "execution_count": 33,
     "metadata": {},
     "output_type": "execute_result"
    }
   ],
   "source": [
    "# check if one user has two devices\n",
    "df_profile_tmp.count()"
   ]
  },
  {
   "cell_type": "code",
   "execution_count": 34,
   "metadata": {},
   "outputs": [
    {
     "data": {
      "text/plain": [
       "58098"
      ]
     },
     "execution_count": 34,
     "metadata": {},
     "output_type": "execute_result"
    }
   ],
   "source": [
    "df_profile_tmp.distinct().count() # one user only has one device"
   ]
  },
  {
   "cell_type": "code",
   "execution_count": 17,
   "metadata": {},
   "outputs": [
    {
     "name": "stdout",
     "output_type": "stream",
     "text": [
      "+-----------+-----+\n",
      "|device_type|count|\n",
      "+-----------+-----+\n",
      "|          1| 7268|\n",
      "|          2|50830|\n",
      "+-----------+-----+\n",
      "\n"
     ]
    }
   ],
   "source": [
    "df_profile_tmp = df_profile_tmp.withColumn('device_type', F.when(F.col('device') == 'ip', 1).otherwise(2))\n",
    "df_profile_tmp.groupBy('device_type').count().show()"
   ]
  },
  {
   "cell_type": "code",
   "execution_count": 18,
   "metadata": {},
   "outputs": [
    {
     "name": "stdout",
     "output_type": "stream",
     "text": [
      "+-----------+-----+\n",
      "|device_type|count|\n",
      "+-----------+-----+\n",
      "|       null|  146|\n",
      "|          1| 7268|\n",
      "|          2|50830|\n",
      "+-----------+-----+\n",
      "\n"
     ]
    }
   ],
   "source": [
    "df_profile = df_label.select('uid').join(df_profile_tmp.select('uid', 'device_type'), on = 'uid', how = 'left')\n",
    "df_profile.groupBy('device_type').count().show()"
   ]
  },
  {
   "cell_type": "markdown",
   "metadata": {},
   "source": [
    "### 5.4 Total play time"
   ]
  },
  {
   "cell_type": "code",
   "execution_count": 19,
   "metadata": {},
   "outputs": [
    {
     "name": "stdout",
     "output_type": "stream",
     "text": [
      "+---------+------+-------+----------+------------+-----------------+\n",
      "|      uid|device|song_id|      date|   play_time|      song_length|\n",
      "+---------+------+-------+----------+------------+-----------------+\n",
      "|168650646|    ip|7069830|2017-04-04| -2147483648|      -2147483648|\n",
      "|168127306|    ip| 886288|2017-04-05|-7.911941426|272.8333333333333|\n",
      "|168127306|    ip| 886288|2017-04-06|-7.911941426|272.8333333333333|\n",
      "|168916105|    ip|6512395|2017-04-14| -2147483648|      -2147483648|\n",
      "+---------+------+-------+----------+------------+-----------------+\n",
      "\n"
     ]
    }
   ],
   "source": [
    "# check if play time of users is negative\n",
    "df_play_feature_window.filter(F.col('play_time') < 0).show()"
   ]
  },
  {
   "cell_type": "code",
   "execution_count": 20,
   "metadata": {},
   "outputs": [],
   "source": [
    "df_play_feature_window_filter = df_play_feature_window.filter(F.col('play_time') >= 0)"
   ]
  },
  {
   "cell_type": "code",
   "execution_count": 21,
   "metadata": {},
   "outputs": [],
   "source": [
    "time_window_list = [1, 3, 7, 14, 30]\n",
    "df_total_play = df_play_feature_window_filter.groupBy('uid') \\\n",
    "            .agg(*[F.sum(F.when((F.col('date') >= feature_window_end_date-datetime.timedelta(time_window-1)) &\n",
    "                                (F.col('date') <= feature_window_end_date), F.col('play_time')).otherwise(0))\\\n",
    "                                        .alias('total_play_time_last_' + str(time_window))\n",
    "                                            for time_window in time_window_list])"
   ]
  },
  {
   "cell_type": "code",
   "execution_count": 42,
   "metadata": {},
   "outputs": [
    {
     "data": {
      "text/plain": [
       "DataFrame[uid: string, total_play_time_last_1: double, total_play_time_last_3: double, total_play_time_last_7: double, total_play_time_last_14: double, total_play_time_last_30: double]"
      ]
     },
     "execution_count": 42,
     "metadata": {},
     "output_type": "execute_result"
    }
   ],
   "source": [
    "df_total_play"
   ]
  },
  {
   "cell_type": "markdown",
   "metadata": {},
   "source": [
    "### 5.5 Fancier frequency"
   ]
  },
  {
   "cell_type": "code",
   "execution_count": 37,
   "metadata": {},
   "outputs": [],
   "source": [
    "# filter records with song length equal to 0\n",
    "df_play_feature_window_final = df_play_feature_window_filter.filter(F.col('song_length') != 0)"
   ]
  },
  {
   "cell_type": "code",
   "execution_count": 40,
   "metadata": {},
   "outputs": [],
   "source": [
    "time_window_list = [1, 3, 7, 14, 30]\n",
    "df_fancier = df_play_feature_window_final.groupBy('uid') \\\n",
    "                   .agg(*[F.sum(F.when((F.col('date')>=feature_window_end_date-datetime.timedelta(time_window-1)) & \\\n",
    "                                       (F.col('date')<=feature_window_end_date) & \\\n",
    "                                       (F.col('play_time')/F.col('song_length')>=0.8) & \\\n",
    "                                       (F.col('play_time')/F.col('song_length')<=1), 1).otherwise(0)) \\\n",
    "                                          .alias('fancier_freq_last_' + str(time_window)) \\\n",
    "                        for time_window in time_window_list])"
   ]
  },
  {
   "cell_type": "code",
   "execution_count": 41,
   "metadata": {},
   "outputs": [
    {
     "data": {
      "text/plain": [
       "DataFrame[uid: string, fancier_freq_last_1: bigint, fancier_freq_last_3: bigint, fancier_freq_last_7: bigint, fancier_freq_last_14: bigint, fancier_freq_last_30: bigint]"
      ]
     },
     "execution_count": 41,
     "metadata": {},
     "output_type": "execute_result"
    }
   ],
   "source": [
    "df_fancier"
   ]
  },
  {
   "cell_type": "markdown",
   "metadata": {},
   "source": [
    "### 5.6 Join features"
   ]
  },
  {
   "cell_type": "code",
   "execution_count": 43,
   "metadata": {},
   "outputs": [],
   "source": [
    "def join_feature_data(df_master, df_feature_list):\n",
    "    for df_feature in df_feature_list:\n",
    "        df_master = df_master.join(df_feature, on = 'uid', how = 'left')\n",
    "        df_master.persist()\n",
    "    return df_master"
   ]
  },
  {
   "cell_type": "code",
   "execution_count": 44,
   "metadata": {},
   "outputs": [],
   "source": [
    "# join all behavior features\n",
    "df_model_final = join_feature_data(df_label, df_feature_list)"
   ]
  },
  {
   "cell_type": "code",
   "execution_count": 45,
   "metadata": {},
   "outputs": [],
   "source": [
    "# join all recency features\n",
    "df_model_final = join_feature_data(df_model_final, df_recency)"
   ]
  },
  {
   "cell_type": "code",
   "execution_count": 46,
   "metadata": {},
   "outputs": [],
   "source": [
    "# join all profile features\n",
    "df_model_final = join_feature_data(df_model_final, [df_profile])"
   ]
  },
  {
   "cell_type": "code",
   "execution_count": 47,
   "metadata": {},
   "outputs": [],
   "source": [
    "# join all total play time features\n",
    "df_model_final = join_feature_data(df_model_final, [df_total_play])"
   ]
  },
  {
   "cell_type": "code",
   "execution_count": 48,
   "metadata": {},
   "outputs": [],
   "source": [
    "# join all fancier features\n",
    "df_model_final = join_feature_data(df_model_final, [df_fancier])"
   ]
  },
  {
   "cell_type": "code",
   "execution_count": 49,
   "metadata": {},
   "outputs": [],
   "source": [
    "df_model_final.fillna(0).toPandas().to_csv('../data/df_model_final.csv', index = False)"
   ]
  },
  {
   "cell_type": "markdown",
   "metadata": {},
   "source": [
    "## 6 Model training"
   ]
  },
  {
   "cell_type": "code",
   "execution_count": 2,
   "metadata": {},
   "outputs": [],
   "source": [
    "df = spark.read.csv('../data/df_model_final.csv', header = True, inferSchema = True).cache()\n",
    "# 'inferSchema' is used to indicate whether automatic inference is used"
   ]
  },
  {
   "cell_type": "code",
   "execution_count": 3,
   "metadata": {},
   "outputs": [
    {
     "data": {
      "text/plain": [
       "DataFrame[uid: int, label: int, freq_P_last_1: int, freq_P_last_3: int, freq_P_last_7: int, freq_P_last_14: int, freq_P_last_30: int, freq_D_last_1: int, freq_D_last_3: int, freq_D_last_7: int, freq_D_last_14: int, freq_D_last_30: int, freq_S_last_1: int, freq_S_last_3: int, freq_S_last_7: int, freq_S_last_14: int, freq_S_last_30: int, days_from_last_P: int, days_from_last_D: int, days_from_last_S: int, device_type: int, total_play_time_last_1: double, total_play_time_last_3: double, total_play_time_last_7: double, total_play_time_last_14: double, total_play_time_last_30: double, fancier_freq_last_1: int, fancier_freq_last_3: int, fancier_freq_last_7: int, fancier_freq_last_14: int, fancier_freq_last_30: int]"
      ]
     },
     "execution_count": 3,
     "metadata": {},
     "output_type": "execute_result"
    }
   ],
   "source": [
    "df"
   ]
  },
  {
   "cell_type": "code",
   "execution_count": 4,
   "metadata": {},
   "outputs": [
    {
     "name": "stdout",
     "output_type": "stream",
     "text": [
      "+---------+-----+-------------+-------------+-------------+--------------+--------------+-------------+-------------+-------------+--------------+--------------+-------------+-------------+-------------+--------------+--------------+----------------+----------------+----------------+-----------+----------------------+----------------------+----------------------+-----------------------+-----------------------+-------------------+-------------------+-------------------+--------------------+--------------------+\n",
      "|      uid|label|freq_P_last_1|freq_P_last_3|freq_P_last_7|freq_P_last_14|freq_P_last_30|freq_D_last_1|freq_D_last_3|freq_D_last_7|freq_D_last_14|freq_D_last_30|freq_S_last_1|freq_S_last_3|freq_S_last_7|freq_S_last_14|freq_S_last_30|days_from_last_P|days_from_last_D|days_from_last_S|device_type|total_play_time_last_1|total_play_time_last_3|total_play_time_last_7|total_play_time_last_14|total_play_time_last_30|fancier_freq_last_1|fancier_freq_last_3|fancier_freq_last_7|fancier_freq_last_14|fancier_freq_last_30|\n",
      "+---------+-----+-------------+-------------+-------------+--------------+--------------+-------------+-------------+-------------+--------------+--------------+-------------+-------------+-------------+--------------+--------------+----------------+----------------+----------------+-----------+----------------------+----------------------+----------------------+-----------------------+-----------------------+-------------------+-------------------+-------------------+--------------------+--------------------+\n",
      "|117677098|    0|            0|           23|           37|           109|           274|            0|            5|            6|            15|            22|            0|            4|            8|            16|            47|               1|               1|               1|          2|                   0.0|                4049.0|                7547.0|                 8621.0|                38710.0|                  0|                 14|                 26|                  28|                 135|\n",
      "+---------+-----+-------------+-------------+-------------+--------------+--------------+-------------+-------------+-------------+--------------+--------------+-------------+-------------+-------------+--------------+--------------+----------------+----------------+----------------+-----------+----------------------+----------------------+----------------------+-----------------------+-----------------------+-------------------+-------------------+-------------------+--------------------+--------------------+\n",
      "only showing top 1 row\n",
      "\n"
     ]
    }
   ],
   "source": [
    "df.show(1)"
   ]
  },
  {
   "cell_type": "markdown",
   "metadata": {},
   "source": [
    "### 6.1 Prepare training and testing data"
   ]
  },
  {
   "cell_type": "code",
   "execution_count": 5,
   "metadata": {},
   "outputs": [
    {
     "name": "stdout",
     "output_type": "stream",
     "text": [
      "+---------+-----+-------------+-------------+-------------+--------------+--------------+-------------+-------------+-------------+--------------+--------------+-------------+-------------+-------------+--------------+--------------+----------------+----------------+----------------+-----------+----------------------+----------------------+----------------------+-----------------------+-----------------------+-------------------+-------------------+-------------------+--------------------+--------------------+---------------+\n",
      "|      uid|label|freq_P_last_1|freq_P_last_3|freq_P_last_7|freq_P_last_14|freq_P_last_30|freq_D_last_1|freq_D_last_3|freq_D_last_7|freq_D_last_14|freq_D_last_30|freq_S_last_1|freq_S_last_3|freq_S_last_7|freq_S_last_14|freq_S_last_30|days_from_last_P|days_from_last_D|days_from_last_S|device_type|total_play_time_last_1|total_play_time_last_3|total_play_time_last_7|total_play_time_last_14|total_play_time_last_30|fancier_freq_last_1|fancier_freq_last_3|fancier_freq_last_7|fancier_freq_last_14|fancier_freq_last_30|device_type_cat|\n",
      "+---------+-----+-------------+-------------+-------------+--------------+--------------+-------------+-------------+-------------+--------------+--------------+-------------+-------------+-------------+--------------+--------------+----------------+----------------+----------------+-----------+----------------------+----------------------+----------------------+-----------------------+-----------------------+-------------------+-------------------+-------------------+--------------------+--------------------+---------------+\n",
      "|117677098|    0|            0|           23|           37|           109|           274|            0|            5|            6|            15|            22|            0|            4|            8|            16|            47|               1|               1|               1|          2|                   0.0|                4049.0|                7547.0|                 8621.0|                38710.0|                  0|                 14|                 26|                  28|                 135|      (2,[],[])|\n",
      "+---------+-----+-------------+-------------+-------------+--------------+--------------+-------------+-------------+-------------+--------------+--------------+-------------+-------------+-------------+--------------+--------------+----------------+----------------+----------------+-----------+----------------------+----------------------+----------------------+-----------------------+-----------------------+-------------------+-------------------+-------------------+--------------------+--------------------+---------------+\n",
      "only showing top 1 row\n",
      "\n"
     ]
    }
   ],
   "source": [
    "# one-hot encoding\n",
    "encoder = OneHotEncoderEstimator(inputCols = ['device_type'], outputCols = ['device_type_cat'])\n",
    "model = encoder.fit(df)\n",
    "encoded = model.transform(df)\n",
    "encoded.show(1)"
   ]
  },
  {
   "cell_type": "code",
   "execution_count": 9,
   "metadata": {},
   "outputs": [
    {
     "data": {
      "text/plain": [
       "['freq_P_last_1',\n",
       " 'freq_P_last_3',\n",
       " 'freq_P_last_7',\n",
       " 'freq_P_last_14',\n",
       " 'freq_P_last_30',\n",
       " 'freq_D_last_1',\n",
       " 'freq_D_last_3',\n",
       " 'freq_D_last_7',\n",
       " 'freq_D_last_14',\n",
       " 'freq_D_last_30',\n",
       " 'freq_S_last_1',\n",
       " 'freq_S_last_3',\n",
       " 'freq_S_last_7',\n",
       " 'freq_S_last_14',\n",
       " 'freq_S_last_30',\n",
       " 'days_from_last_P',\n",
       " 'days_from_last_D',\n",
       " 'days_from_last_S',\n",
       " 'total_play_time_last_1',\n",
       " 'total_play_time_last_3',\n",
       " 'total_play_time_last_7',\n",
       " 'total_play_time_last_14',\n",
       " 'total_play_time_last_30',\n",
       " 'fancier_freq_last_1',\n",
       " 'fancier_freq_last_3',\n",
       " 'fancier_freq_last_7',\n",
       " 'fancier_freq_last_14',\n",
       " 'fancier_freq_last_30']"
      ]
     },
     "execution_count": 9,
     "metadata": {},
     "output_type": "execute_result"
    }
   ],
   "source": [
    "df = encoded.drop('device_type').withColumnRenamed('device_type_cat', 'device_type')\n",
    "df_device_type = df.select('uid', 'device_type')\n",
    "\n",
    "selected_features = df.columns\n",
    "selected_features.remove('uid')\n",
    "selected_features.remove('label')\n",
    "selected_features.remove('device_type')\n",
    "selected_features"
   ]
  },
  {
   "cell_type": "code",
   "execution_count": 10,
   "metadata": {},
   "outputs": [],
   "source": [
    "# transform to a single vector\n",
    "assembler = VectorAssembler(inputCols = selected_features, outputCol = 'features_no_device_type')\n",
    "data = assembler.transform(df)"
   ]
  },
  {
   "cell_type": "code",
   "execution_count": 11,
   "metadata": {},
   "outputs": [
    {
     "name": "stdout",
     "output_type": "stream",
     "text": [
      "+---------+-----+-------------+-------------+-------------+--------------+--------------+-------------+-------------+-------------+--------------+--------------+-------------+-------------+-------------+--------------+--------------+----------------+----------------+----------------+----------------------+----------------------+----------------------+-----------------------+-----------------------+-------------------+-------------------+-------------------+--------------------+--------------------+-------------+-----------------------+\n",
      "|      uid|label|freq_P_last_1|freq_P_last_3|freq_P_last_7|freq_P_last_14|freq_P_last_30|freq_D_last_1|freq_D_last_3|freq_D_last_7|freq_D_last_14|freq_D_last_30|freq_S_last_1|freq_S_last_3|freq_S_last_7|freq_S_last_14|freq_S_last_30|days_from_last_P|days_from_last_D|days_from_last_S|total_play_time_last_1|total_play_time_last_3|total_play_time_last_7|total_play_time_last_14|total_play_time_last_30|fancier_freq_last_1|fancier_freq_last_3|fancier_freq_last_7|fancier_freq_last_14|fancier_freq_last_30|  device_type|features_no_device_type|\n",
      "+---------+-----+-------------+-------------+-------------+--------------+--------------+-------------+-------------+-------------+--------------+--------------+-------------+-------------+-------------+--------------+--------------+----------------+----------------+----------------+----------------------+----------------------+----------------------+-----------------------+-----------------------+-------------------+-------------------+-------------------+--------------------+--------------------+-------------+-----------------------+\n",
      "|117677098|    0|            0|           23|           37|           109|           274|            0|            5|            6|            15|            22|            0|            4|            8|            16|            47|               1|               1|               1|                   0.0|                4049.0|                7547.0|                 8621.0|                38710.0|                  0|                 14|                 26|                  28|                 135|    (2,[],[])|   [0.0,23.0,37.0,10...|\n",
      "|128106175|    1|            0|            0|            0|             0|            12|            0|            0|            0|             0|             0|            0|            0|            0|             0|             0|              27|               0|               0|                   0.0|                   0.0|                   0.0|                    0.0|                 2894.0|                  0|                  0|                  0|                   0|                  10|(2,[1],[1.0])|   (28,[4,15,22,27],...|\n",
      "+---------+-----+-------------+-------------+-------------+--------------+--------------+-------------+-------------+-------------+--------------+--------------+-------------+-------------+-------------+--------------+--------------+----------------+----------------+----------------+----------------------+----------------------+----------------------+-----------------------+-----------------------+-------------------+-------------------+-------------------+--------------------+--------------------+-------------+-----------------------+\n",
      "only showing top 2 rows\n",
      "\n"
     ]
    }
   ],
   "source": [
    "data.show(2)"
   ]
  },
  {
   "cell_type": "code",
   "execution_count": 12,
   "metadata": {},
   "outputs": [
    {
     "name": "stdout",
     "output_type": "stream",
     "text": [
      "+---------+-----+-------------+-------------+-------------+--------------+--------------+-------------+-------------+-------------+--------------+--------------+-------------+-------------+-------------+--------------+--------------+----------------+----------------+----------------+----------------------+----------------------+----------------------+-----------------------+-----------------------+-------------------+-------------------+-------------------+--------------------+--------------------+-----------+------------------------------+\n",
      "|      uid|label|freq_P_last_1|freq_P_last_3|freq_P_last_7|freq_P_last_14|freq_P_last_30|freq_D_last_1|freq_D_last_3|freq_D_last_7|freq_D_last_14|freq_D_last_30|freq_S_last_1|freq_S_last_3|freq_S_last_7|freq_S_last_14|freq_S_last_30|days_from_last_P|days_from_last_D|days_from_last_S|total_play_time_last_1|total_play_time_last_3|total_play_time_last_7|total_play_time_last_14|total_play_time_last_30|fancier_freq_last_1|fancier_freq_last_3|fancier_freq_last_7|fancier_freq_last_14|fancier_freq_last_30|device_type|scaled_features_no_device_type|\n",
      "+---------+-----+-------------+-------------+-------------+--------------+--------------+-------------+-------------+-------------+--------------+--------------+-------------+-------------+-------------+--------------+--------------+----------------+----------------+----------------+----------------------+----------------------+----------------------+-----------------------+-----------------------+-------------------+-------------------+-------------------+--------------------+--------------------+-----------+------------------------------+\n",
      "|117677098|    0|            0|           23|           37|           109|           274|            0|            5|            6|            15|            22|            0|            4|            8|            16|            47|               1|               1|               1|                   0.0|                4049.0|                7547.0|                 8621.0|                38710.0|                  0|                 14|                 26|                  28|                 135|  (2,[],[])|          [0.0,0.5606725611...|\n",
      "+---------+-----+-------------+-------------+-------------+--------------+--------------+-------------+-------------+-------------+--------------+--------------+-------------+-------------+-------------+--------------+--------------+----------------+----------------+----------------+----------------------+----------------------+----------------------+-----------------------+-----------------------+-------------------+-------------------+-------------------+--------------------+--------------------+-----------+------------------------------+\n",
      "only showing top 1 row\n",
      "\n"
     ]
    }
   ],
   "source": [
    "# standardization\n",
    "scaler = StandardScaler(inputCol = 'features_no_device_type', outputCol = 'scaled_features_no_device_type')\n",
    "scalerModel = scaler.fit(data)\n",
    "scaleddata = scalerModel.transform(data).drop('features_no_device_type')\n",
    "scaleddata.show(1)"
   ]
  },
  {
   "cell_type": "code",
   "execution_count": 13,
   "metadata": {},
   "outputs": [],
   "source": [
    "# transform to a single vector again\n",
    "assembler = VectorAssembler(inputCols = ['scaled_features_no_device_type', 'device_type'], outputCol = 'features')\n",
    "data = assembler.transform(scaleddata).drop('scaled_features_no_device_type')"
   ]
  },
  {
   "cell_type": "code",
   "execution_count": 14,
   "metadata": {},
   "outputs": [],
   "source": [
    "# train test split\n",
    "(train, test) = data.randomSplit([0.7, 0.3], seed = 0)"
   ]
  },
  {
   "cell_type": "markdown",
   "metadata": {},
   "source": [
    "### 6.2 Logistic regression"
   ]
  },
  {
   "cell_type": "code",
   "execution_count": 15,
   "metadata": {},
   "outputs": [],
   "source": [
    "ml = LogisticRegression(maxIter = 3, regParam = 0.01)  # regParam - regularization parameter\n",
    "model = ml.fit(train)"
   ]
  },
  {
   "cell_type": "code",
   "execution_count": 16,
   "metadata": {},
   "outputs": [
    {
     "name": "stdout",
     "output_type": "stream",
     "text": [
      "+--------------------+----------+-----+--------------------+\n",
      "|         probability|prediction|label|            features|\n",
      "+--------------------+----------+-----+--------------------+\n",
      "|[0.09092577572257...|       1.0|    1|(30,[4,14,15,17,2...|\n",
      "|[0.90553718238353...|       0.0|    0|(30,[1,2,3,4,9,14...|\n",
      "|[0.58924141372934...|       0.0|    0|(30,[1,2,3,4,14,1...|\n",
      "|[0.98947447699840...|       0.0|    0|[1.50551143743704...|\n",
      "|[0.44222658418936...|       1.0|    1|(30,[0,1,2,3,4,14...|\n",
      "+--------------------+----------+-----+--------------------+\n",
      "only showing top 5 rows\n",
      "\n",
      "+--------------------+----------+-----+--------------------+\n",
      "|         probability|prediction|label|            features|\n",
      "+--------------------+----------+-----+--------------------+\n",
      "|[0.06984683715202...|       1.0|    1|(30,[4,15,22,27],...|\n",
      "|[0.07400614689678...|       1.0|    1|(30,[4,14,15,17,2...|\n",
      "|[0.96433284337961...|       0.0|    0|[1.20440914994963...|\n",
      "|[0.48018982955096...|       1.0|    0|(30,[1,2,3,4,7,8,...|\n",
      "|[0.33233754190937...|       1.0|    1|(30,[4,9,14,15,16...|\n",
      "+--------------------+----------+-----+--------------------+\n",
      "only showing top 5 rows\n",
      "\n"
     ]
    }
   ],
   "source": [
    "# predict train data\n",
    "predictions_train = model.transform(train)\n",
    "\n",
    "# select example rows to display\n",
    "predictions_train.select('probability', 'prediction', 'label', 'features').show(5)\n",
    "res_train = predictions_train.select('probability', 'label').toPandas()\n",
    "\n",
    "# predict test data\n",
    "predictions_test = model.transform(test)\n",
    "\n",
    "# select example rows to display\n",
    "predictions_test.select('probability', 'prediction', 'label', 'features').show(5)\n",
    "res_test = predictions_test.select('probability', 'label').toPandas()"
   ]
  },
  {
   "cell_type": "code",
   "execution_count": 17,
   "metadata": {},
   "outputs": [],
   "source": [
    "# define plot function to evaluate performance\n",
    "def plot_roc_curve(y_train, y_train_pred, y_test, y_test_pred):\n",
    "    roc_auc_train = roc_auc_score(y_train, y_train_pred)\n",
    "    fpr_train, tpr_train, _ = roc_curve(y_train, y_train_pred)\n",
    "    \n",
    "    roc_auc_test = roc_auc_score(y_test, y_test_pred)\n",
    "    fpr_test, tpr_test, _ = roc_curve(y_test, y_test_pred)\n",
    "    \n",
    "    plt.figure()\n",
    "    lw = 2\n",
    "    plt.plot(fpr_train, tpr_train, color = 'green', lw = lw, \n",
    "             label = 'ROC Train (AUC = %0.4f)' % roc_auc_train)\n",
    "    plt.plot(fpr_test, tpr_test, color = 'darkorange', lw = lw, \n",
    "             label = 'ROC Test (AUC = %0.4f)' % roc_auc_test)\n",
    "    plt.plot([0, 1], [0, 1], color = 'navy', lw = lw, linestyle = '--')\n",
    "    plt.xlim([0.0, 1.0])\n",
    "    plt.ylim([0.0, 1.05])\n",
    "    plt.xlabel('False Positive Rate')\n",
    "    plt.ylabel('True Positive Rate')\n",
    "    plt.title('Receiver operating characteristic example')\n",
    "    plt.legend(loc = 'lower right')\n",
    "    plt.show()"
   ]
  },
  {
   "cell_type": "code",
   "execution_count": 18,
   "metadata": {},
   "outputs": [
    {
     "data": {
      "image/png": "[encoded data removed]",
      "text/plain": [
       "<Figure size 432x288 with 1 Axes>"
      ]
     },
     "metadata": {},
     "output_type": "display_data"
    }
   ],
   "source": [
    "# evaluate performance\n",
    "y_train = res_train['label']\n",
    "y_train_pred = [v[1] for v in res_train['probability']]\n",
    "y_test = res_test['label']\n",
    "y_test_pred = [v[1] for v in res_test['probability']]\n",
    "\n",
    "plot_roc_curve(y_train, y_train_pred, y_test, y_test_pred)"
   ]
  },
  {
   "cell_type": "markdown",
   "metadata": {},
   "source": [
    "The performance of logistic model is good!"
   ]
  },
  {
   "cell_type": "markdown",
   "metadata": {},
   "source": [
    "### 6.3 Random forest"
   ]
  },
  {
   "cell_type": "code",
   "execution_count": 19,
   "metadata": {},
   "outputs": [],
   "source": [
    "ml = RandomForestClassifier(labelCol = 'label', featuresCol = 'features', numTrees = 50,\n",
    "                            featureSubsetStrategy = 'auto', impurity = 'gini', maxDepth = 10,\n",
    "                            minInstancesPerNode = 20, maxBins = 16)\n",
    "# featureSubsetStrategy - the number of features to consider for splits at each tree node\n",
    "# maxBins - max number of bins for discretizing continuous features\n",
    "#           (must be >=2 and >= number of categories for any categorical feature.)\n",
    "model = ml.fit(train)"
   ]
  },
  {
   "cell_type": "code",
   "execution_count": 20,
   "metadata": {},
   "outputs": [
    {
     "name": "stdout",
     "output_type": "stream",
     "text": [
      "+--------------------+----------+-----+--------------------+\n",
      "|         probability|prediction|label|            features|\n",
      "+--------------------+----------+-----+--------------------+\n",
      "|[0.13043904789277...|       1.0|    1|(30,[4,14,15,17,2...|\n",
      "|[0.93331313628961...|       0.0|    0|(30,[1,2,3,4,9,14...|\n",
      "|[0.86680461192255...|       0.0|    0|(30,[1,2,3,4,14,1...|\n",
      "|[0.98156697428871...|       0.0|    0|[1.50551143743704...|\n",
      "|[0.57490795678765...|       0.0|    1|(30,[0,1,2,3,4,14...|\n",
      "+--------------------+----------+-----+--------------------+\n",
      "only showing top 5 rows\n",
      "\n",
      "+--------------------+----------+-----+--------------------+\n",
      "|         probability|prediction|label|            features|\n",
      "+--------------------+----------+-----+--------------------+\n",
      "|[0.06134880584980...|       1.0|    1|(30,[4,15,22,27],...|\n",
      "|[0.06010426469380...|       1.0|    1|(30,[4,14,15,17,2...|\n",
      "|[0.99269829640765...|       0.0|    0|[1.20440914994963...|\n",
      "|[0.75046190017654...|       0.0|    0|(30,[1,2,3,4,7,8,...|\n",
      "|[0.27046656282183...|       1.0|    1|(30,[4,9,14,15,16...|\n",
      "+--------------------+----------+-----+--------------------+\n",
      "only showing top 5 rows\n",
      "\n"
     ]
    }
   ],
   "source": [
    "# predict train data\n",
    "predictions_train = model.transform(train)\n",
    "\n",
    "# select example rows to display\n",
    "predictions_train.select('probability', 'prediction', 'label','features').show(5)\n",
    "res_train = predictions_train.select('probability', 'label').toPandas()\n",
    "\n",
    "# predict test data\n",
    "predictions_test = model.transform(test)\n",
    "\n",
    "# select example rows to display\n",
    "predictions_test.select('probability','prediction', 'label', 'features').show(5)\n",
    "res_test = predictions_test.select('probability', 'label').toPandas()"
   ]
  },
  {
   "cell_type": "code",
   "execution_count": 21,
   "metadata": {},
   "outputs": [
    {
     "data": {
      "image/png": "[encoded data removed]",
      "text/plain": [
       "<Figure size 432x288 with 1 Axes>"
      ]
     },
     "metadata": {},
     "output_type": "display_data"
    }
   ],
   "source": [
    "y_train = res_train['label']\n",
    "y_train_pred = [v[1] for v in res_train['probability']]\n",
    "y_test = res_test['label']\n",
    "y_test_pred = [v[1] for v in res_test['probability']]\n",
    "\n",
    "plot_roc_curve(y_train, y_train_pred, y_test, y_test_pred)"
   ]
  },
  {
   "cell_type": "markdown",
   "metadata": {},
   "source": [
    "The performance of random forest is better than logistic regression!"
   ]
  },
  {
   "cell_type": "markdown",
   "metadata": {},
   "source": [
    "## 7 Conclusion"
   ]
  },
  {
   "cell_type": "markdown",
   "metadata": {},
   "source": [
    "We spent a lot of time **cleaning data** and **processing features** to understand connotation of data. For machine learning model, we chose logistic regression and random forest, because of the interpretability of the former and high accuracy of the latter. Exactly, AUC of these two models are both about 0.9. It is relatively meaningful for application."
   ]
  }
 ],
 "metadata": {
  "kernelspec": {
   "display_name": "Python 3",
   "language": "python",
   "name": "python3"
  },
  "language_info": {
   "codemirror_mode": {
    "name": "ipython",
    "version": 3
   },
   "file_extension": ".py",
   "mimetype": "text/x-python",
   "name": "python",
   "nbconvert_exporter": "python",
   "pygments_lexer": "ipython3",
   "version": "3.7.0"
  }
 },
 "nbformat": 4,
 "nbformat_minor": 2
}
